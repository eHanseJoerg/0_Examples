{
 "cells": [
  {
   "cell_type": "code",
   "execution_count": 1,
   "metadata": {},
   "outputs": [
    {
     "ename": "ImportError",
     "evalue": "Library \"GL\" not found.",
     "output_type": "error",
     "traceback": [
      "\u001b[0;31m---------------------------------------------------------------------------\u001b[0m",
      "\u001b[0;31mImportError\u001b[0m                               Traceback (most recent call last)",
      "\u001b[0;32m<ipython-input-1-3c86d777dca9>\u001b[0m in \u001b[0;36m<module>\u001b[0;34m()\u001b[0m\n\u001b[0;32m----> 1\u001b[0;31m \u001b[0;32mimport\u001b[0m \u001b[0mgeoplotlib\u001b[0m\u001b[0;34m\u001b[0m\u001b[0m\n\u001b[0m\u001b[1;32m      2\u001b[0m \u001b[0;32mfrom\u001b[0m \u001b[0mlinelayer\u001b[0m \u001b[0;32mimport\u001b[0m \u001b[0mLineLayer\u001b[0m\u001b[0;34m\u001b[0m\u001b[0m\n\u001b[1;32m      3\u001b[0m \u001b[0;32mfrom\u001b[0m \u001b[0mgeoplotlib\u001b[0m\u001b[0;34m.\u001b[0m\u001b[0mutils\u001b[0m \u001b[0;32mimport\u001b[0m \u001b[0mDataAccessObject\u001b[0m\u001b[0;34m,\u001b[0m \u001b[0mBoundingBox\u001b[0m\u001b[0;34m\u001b[0m\u001b[0m\n\u001b[1;32m      4\u001b[0m \u001b[0;32mfrom\u001b[0m \u001b[0mpandas\u001b[0m \u001b[0;32mimport\u001b[0m \u001b[0mDataFrame\u001b[0m\u001b[0;34m,\u001b[0m \u001b[0mread_csv\u001b[0m\u001b[0;34m\u001b[0m\u001b[0m\n\u001b[1;32m      5\u001b[0m \u001b[0;32mimport\u001b[0m \u001b[0mnumpy\u001b[0m \u001b[0;32mas\u001b[0m \u001b[0mnp\u001b[0m\u001b[0;34m\u001b[0m\u001b[0m\n",
      "\u001b[0;32m/home/joerg/anaconda3/envs/tflearn/lib/python3.5/site-packages/geoplotlib/__init__.py\u001b[0m in \u001b[0;36m<module>\u001b[0;34m()\u001b[0m\n\u001b[1;32m      1\u001b[0m \u001b[0;32mimport\u001b[0m \u001b[0mtraceback\u001b[0m\u001b[0;34m\u001b[0m\u001b[0m\n\u001b[1;32m      2\u001b[0m \u001b[0;32mimport\u001b[0m \u001b[0mpyglet\u001b[0m\u001b[0;34m\u001b[0m\u001b[0m\n\u001b[0;32m----> 3\u001b[0;31m \u001b[0;32mfrom\u001b[0m \u001b[0mgeoplotlib\u001b[0m\u001b[0;34m.\u001b[0m\u001b[0mcore\u001b[0m \u001b[0;32mimport\u001b[0m \u001b[0mGeoplotlibApp\u001b[0m\u001b[0;34m\u001b[0m\u001b[0m\n\u001b[0m\u001b[1;32m      4\u001b[0m \u001b[0;32mfrom\u001b[0m \u001b[0;34m.\u001b[0m\u001b[0mcore\u001b[0m \u001b[0;32mimport\u001b[0m \u001b[0mFONT_NAME\u001b[0m\u001b[0;34m\u001b[0m\u001b[0m\n\u001b[1;32m      5\u001b[0m \u001b[0;34m\u001b[0m\u001b[0m\n",
      "\u001b[0;32m/home/joerg/anaconda3/envs/tflearn/lib/python3.5/site-packages/geoplotlib/core.py\u001b[0m in \u001b[0;36m<module>\u001b[0;34m()\u001b[0m\n\u001b[1;32m      4\u001b[0m \u001b[0;32mfrom\u001b[0m \u001b[0mqueue\u001b[0m \u001b[0;32mimport\u001b[0m \u001b[0mQueue\u001b[0m\u001b[0;34m\u001b[0m\u001b[0m\n\u001b[1;32m      5\u001b[0m \u001b[0;32mfrom\u001b[0m \u001b[0mthreading\u001b[0m \u001b[0;32mimport\u001b[0m \u001b[0mThread\u001b[0m\u001b[0;34m\u001b[0m\u001b[0m\n\u001b[0;32m----> 6\u001b[0;31m \u001b[0;32mfrom\u001b[0m \u001b[0mpyglet\u001b[0m\u001b[0;34m.\u001b[0m\u001b[0mwindow\u001b[0m \u001b[0;32mimport\u001b[0m \u001b[0mmouse\u001b[0m\u001b[0;34m\u001b[0m\u001b[0m\n\u001b[0m\u001b[1;32m      7\u001b[0m \u001b[0;32mimport\u001b[0m \u001b[0mtime\u001b[0m\u001b[0;34m\u001b[0m\u001b[0m\n\u001b[1;32m      8\u001b[0m \u001b[0;32mfrom\u001b[0m \u001b[0mpyglet\u001b[0m\u001b[0;34m.\u001b[0m\u001b[0mgl\u001b[0m \u001b[0;32mimport\u001b[0m \u001b[0;34m*\u001b[0m\u001b[0;34m\u001b[0m\u001b[0m\n",
      "\u001b[0;32m/home/joerg/anaconda3/envs/tflearn/lib/python3.5/site-packages/pyglet/window/__init__.py\u001b[0m in \u001b[0;36m<module>\u001b[0;34m()\u001b[0m\n\u001b[1;32m    131\u001b[0m \u001b[0;32mimport\u001b[0m \u001b[0mpyglet\u001b[0m\u001b[0;34m\u001b[0m\u001b[0m\n\u001b[1;32m    132\u001b[0m \u001b[0;32mfrom\u001b[0m \u001b[0mpyglet\u001b[0m \u001b[0;32mimport\u001b[0m \u001b[0mgl\u001b[0m\u001b[0;34m\u001b[0m\u001b[0m\n\u001b[0;32m--> 133\u001b[0;31m \u001b[0;32mfrom\u001b[0m \u001b[0mpyglet\u001b[0m\u001b[0;34m.\u001b[0m\u001b[0mgl\u001b[0m \u001b[0;32mimport\u001b[0m \u001b[0mgl_info\u001b[0m\u001b[0;34m\u001b[0m\u001b[0m\n\u001b[0m\u001b[1;32m    134\u001b[0m \u001b[0;32mfrom\u001b[0m \u001b[0mpyglet\u001b[0m\u001b[0;34m.\u001b[0m\u001b[0mevent\u001b[0m \u001b[0;32mimport\u001b[0m \u001b[0mEventDispatcher\u001b[0m\u001b[0;34m\u001b[0m\u001b[0m\n\u001b[1;32m    135\u001b[0m \u001b[0;32mimport\u001b[0m \u001b[0mpyglet\u001b[0m\u001b[0;34m.\u001b[0m\u001b[0mwindow\u001b[0m\u001b[0;34m.\u001b[0m\u001b[0mkey\u001b[0m\u001b[0;34m\u001b[0m\u001b[0m\n",
      "\u001b[0;32m/home/joerg/anaconda3/envs/tflearn/lib/python3.5/site-packages/pyglet/gl/__init__.py\u001b[0m in \u001b[0;36m<module>\u001b[0;34m()\u001b[0m\n\u001b[1;32m     95\u001b[0m \u001b[0m__version__\u001b[0m \u001b[0;34m=\u001b[0m \u001b[0;34m'$Id$'\u001b[0m\u001b[0;34m\u001b[0m\u001b[0m\n\u001b[1;32m     96\u001b[0m \u001b[0;34m\u001b[0m\u001b[0m\n\u001b[0;32m---> 97\u001b[0;31m \u001b[0;32mfrom\u001b[0m \u001b[0mpyglet\u001b[0m\u001b[0;34m.\u001b[0m\u001b[0mgl\u001b[0m\u001b[0;34m.\u001b[0m\u001b[0mlib\u001b[0m \u001b[0;32mimport\u001b[0m \u001b[0mGLException\u001b[0m\u001b[0;34m\u001b[0m\u001b[0m\n\u001b[0m\u001b[1;32m     98\u001b[0m \u001b[0;32mfrom\u001b[0m \u001b[0mpyglet\u001b[0m\u001b[0;34m.\u001b[0m\u001b[0mgl\u001b[0m\u001b[0;34m.\u001b[0m\u001b[0mgl\u001b[0m \u001b[0;32mimport\u001b[0m \u001b[0;34m*\u001b[0m\u001b[0;34m\u001b[0m\u001b[0m\n\u001b[1;32m     99\u001b[0m \u001b[0;32mfrom\u001b[0m \u001b[0mpyglet\u001b[0m\u001b[0;34m.\u001b[0m\u001b[0mgl\u001b[0m\u001b[0;34m.\u001b[0m\u001b[0mglu\u001b[0m \u001b[0;32mimport\u001b[0m \u001b[0;34m*\u001b[0m\u001b[0;34m\u001b[0m\u001b[0m\n",
      "\u001b[0;32m/home/joerg/anaconda3/envs/tflearn/lib/python3.5/site-packages/pyglet/gl/lib.py\u001b[0m in \u001b[0;36m<module>\u001b[0;34m()\u001b[0m\n\u001b[1;32m    140\u001b[0m     \u001b[0;32mfrom\u001b[0m \u001b[0mpyglet\u001b[0m\u001b[0;34m.\u001b[0m\u001b[0mgl\u001b[0m\u001b[0;34m.\u001b[0m\u001b[0mlib_agl\u001b[0m \u001b[0;32mimport\u001b[0m \u001b[0mlink_GL\u001b[0m\u001b[0;34m,\u001b[0m \u001b[0mlink_GLU\u001b[0m\u001b[0;34m,\u001b[0m \u001b[0mlink_AGL\u001b[0m\u001b[0;34m\u001b[0m\u001b[0m\n\u001b[1;32m    141\u001b[0m \u001b[0;32melse\u001b[0m\u001b[0;34m:\u001b[0m\u001b[0;34m\u001b[0m\u001b[0m\n\u001b[0;32m--> 142\u001b[0;31m     \u001b[0;32mfrom\u001b[0m \u001b[0mpyglet\u001b[0m\u001b[0;34m.\u001b[0m\u001b[0mgl\u001b[0m\u001b[0;34m.\u001b[0m\u001b[0mlib_glx\u001b[0m \u001b[0;32mimport\u001b[0m \u001b[0mlink_GL\u001b[0m\u001b[0;34m,\u001b[0m \u001b[0mlink_GLU\u001b[0m\u001b[0;34m,\u001b[0m \u001b[0mlink_GLX\u001b[0m\u001b[0;34m\u001b[0m\u001b[0m\n\u001b[0m\u001b[1;32m    143\u001b[0m \u001b[0;34m\u001b[0m\u001b[0m\n",
      "\u001b[0;32m/home/joerg/anaconda3/envs/tflearn/lib/python3.5/site-packages/pyglet/gl/lib_glx.py\u001b[0m in \u001b[0;36m<module>\u001b[0;34m()\u001b[0m\n\u001b[1;32m     48\u001b[0m \u001b[0m__all__\u001b[0m \u001b[0;34m=\u001b[0m \u001b[0;34m[\u001b[0m\u001b[0;34m'link_GL'\u001b[0m\u001b[0;34m,\u001b[0m \u001b[0;34m'link_GLU'\u001b[0m\u001b[0;34m,\u001b[0m \u001b[0;34m'link_GLX'\u001b[0m\u001b[0;34m]\u001b[0m\u001b[0;34m\u001b[0m\u001b[0m\n\u001b[1;32m     49\u001b[0m \u001b[0;34m\u001b[0m\u001b[0m\n\u001b[0;32m---> 50\u001b[0;31m \u001b[0mgl_lib\u001b[0m \u001b[0;34m=\u001b[0m \u001b[0mpyglet\u001b[0m\u001b[0;34m.\u001b[0m\u001b[0mlib\u001b[0m\u001b[0;34m.\u001b[0m\u001b[0mload_library\u001b[0m\u001b[0;34m(\u001b[0m\u001b[0;34m'GL'\u001b[0m\u001b[0;34m)\u001b[0m\u001b[0;34m\u001b[0m\u001b[0m\n\u001b[0m\u001b[1;32m     51\u001b[0m \u001b[0mglu_lib\u001b[0m \u001b[0;34m=\u001b[0m \u001b[0mpyglet\u001b[0m\u001b[0;34m.\u001b[0m\u001b[0mlib\u001b[0m\u001b[0;34m.\u001b[0m\u001b[0mload_library\u001b[0m\u001b[0;34m(\u001b[0m\u001b[0;34m'GLU'\u001b[0m\u001b[0;34m)\u001b[0m\u001b[0;34m\u001b[0m\u001b[0m\n\u001b[1;32m     52\u001b[0m \u001b[0;34m\u001b[0m\u001b[0m\n",
      "\u001b[0;32m/home/joerg/anaconda3/envs/tflearn/lib/python3.5/site-packages/pyglet/lib.py\u001b[0m in \u001b[0;36mload_library\u001b[0;34m(self, *names, **kwargs)\u001b[0m\n\u001b[1;32m    158\u001b[0m                     \u001b[0;32mexcept\u001b[0m \u001b[0mOSError\u001b[0m\u001b[0;34m:\u001b[0m\u001b[0;34m\u001b[0m\u001b[0m\n\u001b[1;32m    159\u001b[0m                         \u001b[0;32mpass\u001b[0m\u001b[0;34m\u001b[0m\u001b[0m\n\u001b[0;32m--> 160\u001b[0;31m         \u001b[0;32mraise\u001b[0m \u001b[0mImportError\u001b[0m\u001b[0;34m(\u001b[0m\u001b[0;34m'Library \"%s\" not found.'\u001b[0m \u001b[0;34m%\u001b[0m \u001b[0mnames\u001b[0m\u001b[0;34m[\u001b[0m\u001b[0;36m0\u001b[0m\u001b[0;34m]\u001b[0m\u001b[0;34m)\u001b[0m\u001b[0;34m\u001b[0m\u001b[0m\n\u001b[0m\u001b[1;32m    161\u001b[0m \u001b[0;34m\u001b[0m\u001b[0m\n\u001b[1;32m    162\u001b[0m     \u001b[0mfind_library\u001b[0m \u001b[0;34m=\u001b[0m \u001b[0;32mlambda\u001b[0m \u001b[0mself\u001b[0m\u001b[0;34m,\u001b[0m \u001b[0mname\u001b[0m\u001b[0;34m:\u001b[0m \u001b[0mctypes\u001b[0m\u001b[0;34m.\u001b[0m\u001b[0mutil\u001b[0m\u001b[0;34m.\u001b[0m\u001b[0mfind_library\u001b[0m\u001b[0;34m(\u001b[0m\u001b[0mname\u001b[0m\u001b[0;34m)\u001b[0m\u001b[0;34m\u001b[0m\u001b[0m\n",
      "\u001b[0;31mImportError\u001b[0m: Library \"GL\" not found."
     ]
    }
   ],
   "source": [
    "import geoplotlib\n",
    "from linelayer import LineLayer\n",
    "from geoplotlib.utils import DataAccessObject, BoundingBox\n",
    "from pandas import DataFrame, read_csv\n",
    "import numpy as np\n",
    "import matplotlib.pyplot as plt\n",
    "import pandas as pd\n",
    "import sys\n",
    "import matplotlib\n",
    "from IPython.display import display\n",
    "from geopy.distance import vincenty\n",
    "from sklearn.cluster import DBSCAN\n",
    "\n",
    "# Enable inline plotting\n",
    "%matplotlib inline\n",
    "\n",
    "# antialiasing for geoplotlib\n",
    "geoplotlib.set_smoothing(True)"
   ]
  },
  {
   "cell_type": "code",
   "execution_count": 2,
   "metadata": {},
   "outputs": [
    {
     "name": "stdout",
     "output_type": "stream",
     "text": [
      "Python version 2.7.12 (v2.7.12:d33e0cf91556, Jun 27 2016, 15:24:40) [MSC v.1500 64 bit (AMD64)]\n",
      "Pandas version 0.18.1\n",
      "Matplotlib version 1.5.1\n"
     ]
    }
   ],
   "source": [
    "print('Python version ' + sys.version)\n",
    "print('Pandas version ' + pd.__version__)\n",
    "print('Matplotlib version ' + matplotlib.__version__)"
   ]
  },
  {
   "cell_type": "markdown",
   "metadata": {},
   "source": [
    "## Initialization"
   ]
  },
  {
   "cell_type": "code",
   "execution_count": 3,
   "metadata": {
    "collapsed": true
   },
   "outputs": [],
   "source": [
    "# First priority: jumps and random, jittered movement\n",
    "bike_file = \"C:/Users/dknodt/Projekte/Movement Data Errors/datasets/CDC2013/traj_days_30min_clean75kmh_gap1km.csv\"\n",
    "tram_file = \"C:/Users/dknodt/Projekte/Movement Data Errors/datasets/W-trams/20160321_tramwaje.csv\"\n",
    "# car trajectories in rectangular cell => problems at the borders\n",
    "milan_file = \"C:\\Users\\dknodt\\Projekte\\Movement Data Errors\\datasets\\Milano\\m30_20070404_end_06_10_f_data.csv\"\n",
    "st_aug_jumps_file = \"C:\\Users\\dknodt\\Downloads\\sankt_augustin_jumps.csv\"\n",
    "st_aug_no_jumps_file = \"C:\\Users\\dknodt\\Downloads\\sankt_augustin_without_jumps.csv\""
   ]
  },
  {
   "cell_type": "code",
   "execution_count": 4,
   "metadata": {},
   "outputs": [
    {
     "name": "stdout",
     "output_type": "stream",
     "text": [
      "722635\n",
      "                          trID  trN  pIdx       lon        lat  \\\n",
      "2011-10-08 12:45:25  101_  3_1    1     1 -1.607602  55.004017   \n",
      "2011-10-08 12:45:30  101_  3_1    1     2 -1.607632  55.003990   \n",
      "2011-10-08 12:47:10  101_  3_1    1     3 -1.607506  55.004080   \n",
      "2011-10-08 12:47:15  101_  3_1    1     4 -1.607435  55.004078   \n",
      "2011-10-08 12:48:40  101_  3_1    1     5 -1.607548  55.004110   \n",
      "2011-10-08 12:54:15  101_  3_1    1     6 -1.607383  55.004097   \n",
      "2011-10-08 12:54:20  101_  3_1    1     7 -1.607390  55.004017   \n",
      "2011-10-08 12:54:25  101_  3_1    1     8 -1.607375  55.004050   \n",
      "2011-10-08 12:56:15  101_  3_1    1     9 -1.607365  55.004090   \n",
      "2011-10-08 12:56:20  101_  3_1    1    10 -1.607372  55.004130   \n",
      "2011-10-08 12:56:25  101_  3_1    1    11 -1.607404  55.004253   \n",
      "2011-10-08 12:56:30  101_  3_1    1    12 -1.607626  55.004303   \n",
      "2011-10-08 12:56:35  101_  3_1    1    13 -1.607975  55.004250   \n",
      "2011-10-08 12:56:40  101_  3_1    1    14 -1.608341  55.004190   \n",
      "2011-10-08 12:56:45  101_  3_1    1    15 -1.608690  55.004116   \n",
      "2011-10-08 12:56:50  101_  3_1    1    16 -1.609030  55.004044   \n",
      "2011-10-08 12:56:55  101_  3_1    1    17 -1.609346  55.003975   \n",
      "2011-10-08 12:57:00  101_  3_1    1    18 -1.609460  55.003790   \n",
      "2011-10-08 12:57:05  101_  3_1    1    19 -1.609568  55.003544   \n",
      "2011-10-08 12:57:10  101_  3_1    1    20 -1.609662  55.003292   \n",
      "\n",
      "                                   time  \n",
      "2011-10-08 12:45:25 2011-10-08 12:45:25  \n",
      "2011-10-08 12:45:30 2011-10-08 12:45:30  \n",
      "2011-10-08 12:47:10 2011-10-08 12:47:10  \n",
      "2011-10-08 12:47:15 2011-10-08 12:47:15  \n",
      "2011-10-08 12:48:40 2011-10-08 12:48:40  \n",
      "2011-10-08 12:54:15 2011-10-08 12:54:15  \n",
      "2011-10-08 12:54:20 2011-10-08 12:54:20  \n",
      "2011-10-08 12:54:25 2011-10-08 12:54:25  \n",
      "2011-10-08 12:56:15 2011-10-08 12:56:15  \n",
      "2011-10-08 12:56:20 2011-10-08 12:56:20  \n",
      "2011-10-08 12:56:25 2011-10-08 12:56:25  \n",
      "2011-10-08 12:56:30 2011-10-08 12:56:30  \n",
      "2011-10-08 12:56:35 2011-10-08 12:56:35  \n",
      "2011-10-08 12:56:40 2011-10-08 12:56:40  \n",
      "2011-10-08 12:56:45 2011-10-08 12:56:45  \n",
      "2011-10-08 12:56:50 2011-10-08 12:56:50  \n",
      "2011-10-08 12:56:55 2011-10-08 12:56:55  \n",
      "2011-10-08 12:57:00 2011-10-08 12:57:00  \n",
      "2011-10-08 12:57:05 2011-10-08 12:57:05  \n",
      "2011-10-08 12:57:10 2011-10-08 12:57:10  \n"
     ]
    }
   ],
   "source": [
    "df = pd.read_csv(bike_file, header=0, names=['trID', 'trN', 'pIdx', 'lon', 'lat', 'time', 'Duration'])\n",
    "ignored_columns = ['Duration']\n",
    "df = df[[c for c in df.columns if c not in ignored_columns ]]\n",
    "df['time'] = pd.to_datetime(df['time'], format=\"%d/%m/%Y %H:%M:%S\")\n",
    "df = df.set_index(pd.DatetimeIndex(df['time']))\n",
    "print len(df)\n",
    "print(df.head(20))"
   ]
  },
  {
   "cell_type": "markdown",
   "metadata": {},
   "source": [
    "## Raw plots"
   ]
  },
  {
   "cell_type": "code",
   "execution_count": 16,
   "metadata": {},
   "outputs": [],
   "source": [
    "# dot plot of all trajectory points\n",
    "geoplotlib.dot(df, color=[0,0,0])\n",
    "geoplotlib.show()"
   ]
  },
  {
   "cell_type": "code",
   "execution_count": 20,
   "metadata": {},
   "outputs": [],
   "source": [
    "# line plot of trajectories\n",
    "groups = df.groupby('trID')\n",
    "for grp_id, grp_df in groups:\n",
    "    geoplotlib.add_layer(LineLayer(grp_df))\n",
    "geoplotlib.show()"
   ]
  },
  {
   "cell_type": "markdown",
   "metadata": {},
   "source": [
    "## Calculate additional attributes"
   ]
  },
  {
   "cell_type": "markdown",
   "metadata": {},
   "source": [
    "### cumulative angle alpha "
   ]
  },
  {
   "cell_type": "code",
   "execution_count": 5,
   "metadata": {},
   "outputs": [
    {
     "name": "stdout",
     "output_type": "stream",
     "text": [
      "groups 1584\n"
     ]
    },
    {
     "data": {
      "text/html": [
       "<div>\n",
       "<table border=\"1\" class=\"dataframe\">\n",
       "  <thead>\n",
       "    <tr style=\"text-align: right;\">\n",
       "      <th></th>\n",
       "      <th>trID</th>\n",
       "      <th>trN</th>\n",
       "      <th>pIdx</th>\n",
       "      <th>lon</th>\n",
       "      <th>lat</th>\n",
       "      <th>time</th>\n",
       "      <th>lon+1</th>\n",
       "      <th>lat+1</th>\n",
       "      <th>v_lon</th>\n",
       "      <th>v_lat</th>\n",
       "      <th>norm_v_lon</th>\n",
       "      <th>norm_v_lat</th>\n",
       "      <th>norm_v_lon-1</th>\n",
       "      <th>norm_v_lat-1</th>\n",
       "      <th>alpha</th>\n",
       "      <th>cum_alpha</th>\n",
       "    </tr>\n",
       "  </thead>\n",
       "  <tbody>\n",
       "    <tr>\n",
       "      <th>2011-10-08 12:45:25</th>\n",
       "      <td>101_  3_1</td>\n",
       "      <td>1</td>\n",
       "      <td>1</td>\n",
       "      <td>-1.607602</td>\n",
       "      <td>55.004017</td>\n",
       "      <td>2011-10-08 12:45:25</td>\n",
       "      <td>-1.607632</td>\n",
       "      <td>55.003990</td>\n",
       "      <td>-0.000030</td>\n",
       "      <td>-0.000027</td>\n",
       "      <td>-0.743294</td>\n",
       "      <td>-0.668965</td>\n",
       "      <td>0.000000</td>\n",
       "      <td>0.000000</td>\n",
       "      <td>0.000000</td>\n",
       "      <td>0.0</td>\n",
       "    </tr>\n",
       "    <tr>\n",
       "      <th>2011-10-08 12:45:30</th>\n",
       "      <td>101_  3_1</td>\n",
       "      <td>1</td>\n",
       "      <td>2</td>\n",
       "      <td>-1.607632</td>\n",
       "      <td>55.003990</td>\n",
       "      <td>2011-10-08 12:45:30</td>\n",
       "      <td>-1.607506</td>\n",
       "      <td>55.004080</td>\n",
       "      <td>0.000125</td>\n",
       "      <td>0.000090</td>\n",
       "      <td>0.811977</td>\n",
       "      <td>0.583690</td>\n",
       "      <td>-0.743294</td>\n",
       "      <td>-0.668965</td>\n",
       "      <td>3.032043</td>\n",
       "      <td>0.0</td>\n",
       "    </tr>\n",
       "    <tr>\n",
       "      <th>2011-10-08 12:47:10</th>\n",
       "      <td>101_  3_1</td>\n",
       "      <td>1</td>\n",
       "      <td>3</td>\n",
       "      <td>-1.607506</td>\n",
       "      <td>55.004080</td>\n",
       "      <td>2011-10-08 12:47:10</td>\n",
       "      <td>-1.607435</td>\n",
       "      <td>55.004078</td>\n",
       "      <td>0.000072</td>\n",
       "      <td>-0.000002</td>\n",
       "      <td>0.999612</td>\n",
       "      <td>-0.027844</td>\n",
       "      <td>0.811977</td>\n",
       "      <td>0.583690</td>\n",
       "      <td>0.651113</td>\n",
       "      <td>0.0</td>\n",
       "    </tr>\n",
       "    <tr>\n",
       "      <th>2011-10-08 12:47:15</th>\n",
       "      <td>101_  3_1</td>\n",
       "      <td>1</td>\n",
       "      <td>4</td>\n",
       "      <td>-1.607435</td>\n",
       "      <td>55.004078</td>\n",
       "      <td>2011-10-08 12:47:15</td>\n",
       "      <td>-1.607548</td>\n",
       "      <td>55.004110</td>\n",
       "      <td>-0.000114</td>\n",
       "      <td>0.000032</td>\n",
       "      <td>-0.962665</td>\n",
       "      <td>0.270697</td>\n",
       "      <td>0.999612</td>\n",
       "      <td>-0.027844</td>\n",
       "      <td>2.895324</td>\n",
       "      <td>0.0</td>\n",
       "    </tr>\n",
       "    <tr>\n",
       "      <th>2011-10-08 12:48:40</th>\n",
       "      <td>101_  3_1</td>\n",
       "      <td>1</td>\n",
       "      <td>5</td>\n",
       "      <td>-1.607548</td>\n",
       "      <td>55.004110</td>\n",
       "      <td>2011-10-08 12:48:40</td>\n",
       "      <td>-1.607383</td>\n",
       "      <td>55.004097</td>\n",
       "      <td>0.000165</td>\n",
       "      <td>-0.000013</td>\n",
       "      <td>0.996914</td>\n",
       "      <td>-0.078497</td>\n",
       "      <td>-0.962665</td>\n",
       "      <td>0.270697</td>\n",
       "      <td>2.946054</td>\n",
       "      <td>0.0</td>\n",
       "    </tr>\n",
       "    <tr>\n",
       "      <th>2011-10-08 12:54:15</th>\n",
       "      <td>101_  3_1</td>\n",
       "      <td>1</td>\n",
       "      <td>6</td>\n",
       "      <td>-1.607383</td>\n",
       "      <td>55.004097</td>\n",
       "      <td>2011-10-08 12:54:15</td>\n",
       "      <td>-1.607390</td>\n",
       "      <td>55.004017</td>\n",
       "      <td>-0.000007</td>\n",
       "      <td>-0.000080</td>\n",
       "      <td>-0.080983</td>\n",
       "      <td>-0.996715</td>\n",
       "      <td>0.996914</td>\n",
       "      <td>-0.078497</td>\n",
       "      <td>1.573290</td>\n",
       "      <td>0.0</td>\n",
       "    </tr>\n",
       "  </tbody>\n",
       "</table>\n",
       "</div>"
      ],
      "text/plain": [
       "                          trID  trN  pIdx       lon        lat  \\\n",
       "2011-10-08 12:45:25  101_  3_1    1     1 -1.607602  55.004017   \n",
       "2011-10-08 12:45:30  101_  3_1    1     2 -1.607632  55.003990   \n",
       "2011-10-08 12:47:10  101_  3_1    1     3 -1.607506  55.004080   \n",
       "2011-10-08 12:47:15  101_  3_1    1     4 -1.607435  55.004078   \n",
       "2011-10-08 12:48:40  101_  3_1    1     5 -1.607548  55.004110   \n",
       "2011-10-08 12:54:15  101_  3_1    1     6 -1.607383  55.004097   \n",
       "\n",
       "                                   time     lon+1      lat+1     v_lon  \\\n",
       "2011-10-08 12:45:25 2011-10-08 12:45:25 -1.607632  55.003990 -0.000030   \n",
       "2011-10-08 12:45:30 2011-10-08 12:45:30 -1.607506  55.004080  0.000125   \n",
       "2011-10-08 12:47:10 2011-10-08 12:47:10 -1.607435  55.004078  0.000072   \n",
       "2011-10-08 12:47:15 2011-10-08 12:47:15 -1.607548  55.004110 -0.000114   \n",
       "2011-10-08 12:48:40 2011-10-08 12:48:40 -1.607383  55.004097  0.000165   \n",
       "2011-10-08 12:54:15 2011-10-08 12:54:15 -1.607390  55.004017 -0.000007   \n",
       "\n",
       "                        v_lat  norm_v_lon  norm_v_lat  norm_v_lon-1  \\\n",
       "2011-10-08 12:45:25 -0.000027   -0.743294   -0.668965      0.000000   \n",
       "2011-10-08 12:45:30  0.000090    0.811977    0.583690     -0.743294   \n",
       "2011-10-08 12:47:10 -0.000002    0.999612   -0.027844      0.811977   \n",
       "2011-10-08 12:47:15  0.000032   -0.962665    0.270697      0.999612   \n",
       "2011-10-08 12:48:40 -0.000013    0.996914   -0.078497     -0.962665   \n",
       "2011-10-08 12:54:15 -0.000080   -0.080983   -0.996715      0.996914   \n",
       "\n",
       "                     norm_v_lat-1     alpha  cum_alpha  \n",
       "2011-10-08 12:45:25      0.000000  0.000000        0.0  \n",
       "2011-10-08 12:45:30     -0.668965  3.032043        0.0  \n",
       "2011-10-08 12:47:10      0.583690  0.651113        0.0  \n",
       "2011-10-08 12:47:15     -0.027844  2.895324        0.0  \n",
       "2011-10-08 12:48:40      0.270697  2.946054        0.0  \n",
       "2011-10-08 12:54:15     -0.078497  1.573290        0.0  "
      ]
     },
     "metadata": {},
     "output_type": "display_data"
    }
   ],
   "source": [
    "window = 20\n",
    "# window = 5\n",
    "\n",
    "groups = df.groupby('trID')\n",
    "frames = []\n",
    "print 'groups', len(groups)\n",
    "# for each trajectory\n",
    "for i, (grp_id, grp_df) in enumerate(groups):\n",
    "    tmp_df = grp_df.copy()\n",
    "    lon_lat_df = tmp_df[['lon', 'lat']]\n",
    "    # add next point to record\n",
    "    tmp_df[['lon+1', 'lat+1']] = lon_lat_df.shift(-1)\n",
    "    # difference vector\n",
    "    tmp_df['v_lon'] = tmp_df['lon+1'] - tmp_df['lon']\n",
    "    tmp_df['v_lat'] = tmp_df['lat+1'] - tmp_df['lat']\n",
    "    # normalize difference vectort\n",
    "    norm_vec = np.linalg.norm(tmp_df[['v_lon','v_lat']], axis=1)\n",
    "    mat = np.array(tmp_df[['v_lon','v_lat']])\n",
    "    normalized_mat = mat / norm_vec[:, None]\n",
    "    tmp_df['norm_v_lon'] = normalized_mat[:, 0]\n",
    "    tmp_df['norm_v_lat'] = normalized_mat[:, 1]\n",
    "    # add normalized difference vector of the next point\n",
    "    v_df = tmp_df[['norm_v_lon', 'norm_v_lat']]\n",
    "    tmp_df[['norm_v_lon-1', 'norm_v_lat-1']] = v_df.shift(1)\n",
    "    # calculate angle\n",
    "    tmp_df['alpha'] = np.arccos(map(np.dot, np.array(tmp_df[['norm_v_lon', 'norm_v_lat']]),\n",
    "                                    np.array(tmp_df[['norm_v_lon-1', 'norm_v_lat-1']])))\n",
    "    tmp_df['alpha'] = tmp_df['alpha'].fillna(0)\n",
    "    frames.append(tmp_df)\n",
    "\n",
    "df = pd.concat(frames)\n",
    "# df = df.join(result[['v_lon', 'v_lat', 'alpha', 'pIdx']], on='pIdx')\n",
    "\n",
    "df['cum_alpha'] = df['alpha'].rolling(window=window).sum().fillna(0);\n",
    "df = df.fillna(0)\n",
    "display(df.head(6))"
   ]
  },
  {
   "cell_type": "markdown",
   "metadata": {},
   "source": [
    "### cum_alpha statistics"
   ]
  },
  {
   "cell_type": "code",
   "execution_count": 19,
   "metadata": {},
   "outputs": [
    {
     "data": {
      "text/plain": [
       "<matplotlib.axes._subplots.AxesSubplot at 0x7e133b70>"
      ]
     },
     "execution_count": 19,
     "metadata": {},
     "output_type": "execute_result"
    },
    {
     "data": {
      "image/png": "[encoded data removed]",
      "text/plain": [
       "<matplotlib.figure.Figure at 0x605504e0>"
      ]
     },
     "metadata": {},
     "output_type": "display_data"
    }
   ],
   "source": [
    "df['cum_alpha'].plot()"
   ]
  },
  {
   "cell_type": "code",
   "execution_count": 21,
   "metadata": {},
   "outputs": [
    {
     "data": {
      "text/plain": [
       "count    722635.000000\n",
       "mean         13.255733\n",
       "std           8.860451\n",
       "min           0.000000\n",
       "25%           5.062663\n",
       "50%          12.270590\n",
       "75%          20.779023\n",
       "max          45.847707\n",
       "Name: cum_alpha, dtype: float64"
      ]
     },
     "execution_count": 21,
     "metadata": {},
     "output_type": "execute_result"
    }
   ],
   "source": [
    "df['cum_alpha'].describe()"
   ]
  },
  {
   "cell_type": "code",
   "execution_count": 22,
   "metadata": {},
   "outputs": [
    {
     "data": {
      "text/plain": [
       "<matplotlib.axes._subplots.AxesSubplot at 0x7e333908>"
      ]
     },
     "execution_count": 22,
     "metadata": {},
     "output_type": "execute_result"
    },
    {
     "data": {
      "image/png": "[encoded data removed]",
      "text/plain": [
       "<matplotlib.figure.Figure at 0x7e147358>"
      ]
     },
     "metadata": {},
     "output_type": "display_data"
    }
   ],
   "source": [
    "df['cum_alpha'].hist()"
   ]
  },
  {
   "cell_type": "markdown",
   "metadata": {},
   "source": [
    "## duration"
   ]
  },
  {
   "cell_type": "code",
   "execution_count": 23,
   "metadata": {},
   "outputs": [
    {
     "name": "stdout",
     "output_type": "stream",
     "text": [
      "groups 1584\n"
     ]
    }
   ],
   "source": [
    "from time import strftime\n",
    "\n",
    "groups = df.groupby('trID')\n",
    "frames = []\n",
    "print 'groups', len(groups)\n",
    "for grp_id, grp_df in groups:\n",
    "    tmp_df = grp_df.copy()\n",
    "    tmp_df['time+1'] = tmp_df['time'].shift(-1)\n",
    "    tmp_df['duration'] = tmp_df['time+1'] - tmp_df['time']\n",
    "    frames.append(tmp_df)\n",
    "df = pd.concat(frames)\n",
    "df['duration'] = df['duration'] / np.timedelta64(1, 's')"
   ]
  },
  {
   "cell_type": "markdown",
   "metadata": {},
   "source": [
    "#### Plotting duration"
   ]
  },
  {
   "cell_type": "markdown",
   "metadata": {},
   "source": [
    "- time deltas between two consecutive points are mostly 5 seconds"
   ]
  },
  {
   "cell_type": "code",
   "execution_count": 24,
   "metadata": {},
   "outputs": [
    {
     "data": {
      "image/png": "[encoded data removed]",
      "text/plain": [
       "<matplotlib.figure.Figure at 0x7e147048>"
      ]
     },
     "metadata": {},
     "output_type": "display_data"
    },
    {
     "data": {
      "image/png": "[encoded data removed]",
      "text/plain": [
       "<matplotlib.figure.Figure at 0x652b8550>"
      ]
     },
     "metadata": {},
     "output_type": "display_data"
    },
    {
     "name": "stdout",
     "output_type": "stream",
     "text": [
      "count    721051.000000\n",
      "mean         10.340868\n",
      "std          47.931571\n",
      "min           1.000000\n",
      "25%                NaN\n",
      "50%                NaN\n",
      "75%                NaN\n",
      "max        2557.000000\n",
      "Name: duration, dtype: float64\n"
     ]
    },
    {
     "name": "stderr",
     "output_type": "stream",
     "text": [
      "c:\\program files\\python27\\lib\\site-packages\\numpy\\lib\\function_base.py:3835: RuntimeWarning: Invalid value encountered in percentile\n",
      "  RuntimeWarning)\n"
     ]
    },
    {
     "data": {
      "text/html": [
       "<div>\n",
       "<table border=\"1\" class=\"dataframe\">\n",
       "  <thead>\n",
       "    <tr style=\"text-align: right;\">\n",
       "      <th></th>\n",
       "      <th>trID</th>\n",
       "      <th>trN</th>\n",
       "      <th>pIdx</th>\n",
       "      <th>lon</th>\n",
       "      <th>lat</th>\n",
       "      <th>time</th>\n",
       "      <th>lon+1</th>\n",
       "      <th>lat+1</th>\n",
       "      <th>v_lon</th>\n",
       "      <th>v_lat</th>\n",
       "      <th>norm_v_lon</th>\n",
       "      <th>norm_v_lat</th>\n",
       "      <th>norm_v_lon-1</th>\n",
       "      <th>norm_v_lat-1</th>\n",
       "      <th>alpha</th>\n",
       "      <th>cum_alpha</th>\n",
       "      <th>time+1</th>\n",
       "      <th>duration</th>\n",
       "    </tr>\n",
       "  </thead>\n",
       "  <tbody>\n",
       "    <tr>\n",
       "      <th>2011-10-08 12:45:25</th>\n",
       "      <td>101_  3_1</td>\n",
       "      <td>1</td>\n",
       "      <td>1</td>\n",
       "      <td>-1.607602</td>\n",
       "      <td>55.004017</td>\n",
       "      <td>2011-10-08 12:45:25</td>\n",
       "      <td>-1.607632</td>\n",
       "      <td>55.003990</td>\n",
       "      <td>-0.000030</td>\n",
       "      <td>-0.000027</td>\n",
       "      <td>-0.743294</td>\n",
       "      <td>-0.668965</td>\n",
       "      <td>0.000000</td>\n",
       "      <td>0.000000</td>\n",
       "      <td>0.000000</td>\n",
       "      <td>0.0</td>\n",
       "      <td>2011-10-08 12:45:30</td>\n",
       "      <td>5.0</td>\n",
       "    </tr>\n",
       "    <tr>\n",
       "      <th>2011-10-08 12:45:30</th>\n",
       "      <td>101_  3_1</td>\n",
       "      <td>1</td>\n",
       "      <td>2</td>\n",
       "      <td>-1.607632</td>\n",
       "      <td>55.003990</td>\n",
       "      <td>2011-10-08 12:45:30</td>\n",
       "      <td>-1.607506</td>\n",
       "      <td>55.004080</td>\n",
       "      <td>0.000125</td>\n",
       "      <td>0.000090</td>\n",
       "      <td>0.811977</td>\n",
       "      <td>0.583690</td>\n",
       "      <td>-0.743294</td>\n",
       "      <td>-0.668965</td>\n",
       "      <td>3.032043</td>\n",
       "      <td>0.0</td>\n",
       "      <td>2011-10-08 12:47:10</td>\n",
       "      <td>100.0</td>\n",
       "    </tr>\n",
       "    <tr>\n",
       "      <th>2011-10-08 12:47:10</th>\n",
       "      <td>101_  3_1</td>\n",
       "      <td>1</td>\n",
       "      <td>3</td>\n",
       "      <td>-1.607506</td>\n",
       "      <td>55.004080</td>\n",
       "      <td>2011-10-08 12:47:10</td>\n",
       "      <td>-1.607435</td>\n",
       "      <td>55.004078</td>\n",
       "      <td>0.000072</td>\n",
       "      <td>-0.000002</td>\n",
       "      <td>0.999612</td>\n",
       "      <td>-0.027844</td>\n",
       "      <td>0.811977</td>\n",
       "      <td>0.583690</td>\n",
       "      <td>0.651113</td>\n",
       "      <td>0.0</td>\n",
       "      <td>2011-10-08 12:47:15</td>\n",
       "      <td>5.0</td>\n",
       "    </tr>\n",
       "    <tr>\n",
       "      <th>2011-10-08 12:47:15</th>\n",
       "      <td>101_  3_1</td>\n",
       "      <td>1</td>\n",
       "      <td>4</td>\n",
       "      <td>-1.607435</td>\n",
       "      <td>55.004078</td>\n",
       "      <td>2011-10-08 12:47:15</td>\n",
       "      <td>-1.607548</td>\n",
       "      <td>55.004110</td>\n",
       "      <td>-0.000114</td>\n",
       "      <td>0.000032</td>\n",
       "      <td>-0.962665</td>\n",
       "      <td>0.270697</td>\n",
       "      <td>0.999612</td>\n",
       "      <td>-0.027844</td>\n",
       "      <td>2.895324</td>\n",
       "      <td>0.0</td>\n",
       "      <td>2011-10-08 12:48:40</td>\n",
       "      <td>85.0</td>\n",
       "    </tr>\n",
       "    <tr>\n",
       "      <th>2011-10-08 12:48:40</th>\n",
       "      <td>101_  3_1</td>\n",
       "      <td>1</td>\n",
       "      <td>5</td>\n",
       "      <td>-1.607548</td>\n",
       "      <td>55.004110</td>\n",
       "      <td>2011-10-08 12:48:40</td>\n",
       "      <td>-1.607383</td>\n",
       "      <td>55.004097</td>\n",
       "      <td>0.000165</td>\n",
       "      <td>-0.000013</td>\n",
       "      <td>0.996914</td>\n",
       "      <td>-0.078497</td>\n",
       "      <td>-0.962665</td>\n",
       "      <td>0.270697</td>\n",
       "      <td>2.946054</td>\n",
       "      <td>0.0</td>\n",
       "      <td>2011-10-08 12:54:15</td>\n",
       "      <td>335.0</td>\n",
       "    </tr>\n",
       "    <tr>\n",
       "      <th>2011-10-08 12:54:15</th>\n",
       "      <td>101_  3_1</td>\n",
       "      <td>1</td>\n",
       "      <td>6</td>\n",
       "      <td>-1.607383</td>\n",
       "      <td>55.004097</td>\n",
       "      <td>2011-10-08 12:54:15</td>\n",
       "      <td>-1.607390</td>\n",
       "      <td>55.004017</td>\n",
       "      <td>-0.000007</td>\n",
       "      <td>-0.000080</td>\n",
       "      <td>-0.080983</td>\n",
       "      <td>-0.996715</td>\n",
       "      <td>0.996914</td>\n",
       "      <td>-0.078497</td>\n",
       "      <td>1.573290</td>\n",
       "      <td>0.0</td>\n",
       "      <td>2011-10-08 12:54:20</td>\n",
       "      <td>5.0</td>\n",
       "    </tr>\n",
       "    <tr>\n",
       "      <th>2011-10-08 12:54:20</th>\n",
       "      <td>101_  3_1</td>\n",
       "      <td>1</td>\n",
       "      <td>7</td>\n",
       "      <td>-1.607390</td>\n",
       "      <td>55.004017</td>\n",
       "      <td>2011-10-08 12:54:20</td>\n",
       "      <td>-1.607375</td>\n",
       "      <td>55.004050</td>\n",
       "      <td>0.000015</td>\n",
       "      <td>0.000033</td>\n",
       "      <td>0.411513</td>\n",
       "      <td>0.911404</td>\n",
       "      <td>-0.080983</td>\n",
       "      <td>-0.996715</td>\n",
       "      <td>2.798551</td>\n",
       "      <td>0.0</td>\n",
       "      <td>2011-10-08 12:54:25</td>\n",
       "      <td>5.0</td>\n",
       "    </tr>\n",
       "    <tr>\n",
       "      <th>2011-10-08 12:54:25</th>\n",
       "      <td>101_  3_1</td>\n",
       "      <td>1</td>\n",
       "      <td>8</td>\n",
       "      <td>-1.607375</td>\n",
       "      <td>55.004050</td>\n",
       "      <td>2011-10-08 12:54:25</td>\n",
       "      <td>-1.607365</td>\n",
       "      <td>55.004090</td>\n",
       "      <td>0.000010</td>\n",
       "      <td>0.000040</td>\n",
       "      <td>0.233373</td>\n",
       "      <td>0.972387</td>\n",
       "      <td>0.411513</td>\n",
       "      <td>0.911404</td>\n",
       "      <td>0.188568</td>\n",
       "      <td>0.0</td>\n",
       "      <td>2011-10-08 12:56:15</td>\n",
       "      <td>110.0</td>\n",
       "    </tr>\n",
       "    <tr>\n",
       "      <th>2011-10-08 12:56:15</th>\n",
       "      <td>101_  3_1</td>\n",
       "      <td>1</td>\n",
       "      <td>9</td>\n",
       "      <td>-1.607365</td>\n",
       "      <td>55.004090</td>\n",
       "      <td>2011-10-08 12:56:15</td>\n",
       "      <td>-1.607372</td>\n",
       "      <td>55.004130</td>\n",
       "      <td>-0.000007</td>\n",
       "      <td>0.000040</td>\n",
       "      <td>-0.169989</td>\n",
       "      <td>0.985446</td>\n",
       "      <td>0.233373</td>\n",
       "      <td>0.972387</td>\n",
       "      <td>0.406364</td>\n",
       "      <td>0.0</td>\n",
       "      <td>2011-10-08 12:56:20</td>\n",
       "      <td>5.0</td>\n",
       "    </tr>\n",
       "    <tr>\n",
       "      <th>2011-10-08 12:56:20</th>\n",
       "      <td>101_  3_1</td>\n",
       "      <td>1</td>\n",
       "      <td>10</td>\n",
       "      <td>-1.607372</td>\n",
       "      <td>55.004130</td>\n",
       "      <td>2011-10-08 12:56:20</td>\n",
       "      <td>-1.607404</td>\n",
       "      <td>55.004253</td>\n",
       "      <td>-0.000032</td>\n",
       "      <td>0.000123</td>\n",
       "      <td>-0.250306</td>\n",
       "      <td>0.968167</td>\n",
       "      <td>-0.169989</td>\n",
       "      <td>0.985446</td>\n",
       "      <td>0.082178</td>\n",
       "      <td>0.0</td>\n",
       "      <td>2011-10-08 12:56:25</td>\n",
       "      <td>5.0</td>\n",
       "    </tr>\n",
       "  </tbody>\n",
       "</table>\n",
       "</div>"
      ],
      "text/plain": [
       "                          trID  trN  pIdx       lon        lat  \\\n",
       "2011-10-08 12:45:25  101_  3_1    1     1 -1.607602  55.004017   \n",
       "2011-10-08 12:45:30  101_  3_1    1     2 -1.607632  55.003990   \n",
       "2011-10-08 12:47:10  101_  3_1    1     3 -1.607506  55.004080   \n",
       "2011-10-08 12:47:15  101_  3_1    1     4 -1.607435  55.004078   \n",
       "2011-10-08 12:48:40  101_  3_1    1     5 -1.607548  55.004110   \n",
       "2011-10-08 12:54:15  101_  3_1    1     6 -1.607383  55.004097   \n",
       "2011-10-08 12:54:20  101_  3_1    1     7 -1.607390  55.004017   \n",
       "2011-10-08 12:54:25  101_  3_1    1     8 -1.607375  55.004050   \n",
       "2011-10-08 12:56:15  101_  3_1    1     9 -1.607365  55.004090   \n",
       "2011-10-08 12:56:20  101_  3_1    1    10 -1.607372  55.004130   \n",
       "\n",
       "                                   time     lon+1      lat+1     v_lon  \\\n",
       "2011-10-08 12:45:25 2011-10-08 12:45:25 -1.607632  55.003990 -0.000030   \n",
       "2011-10-08 12:45:30 2011-10-08 12:45:30 -1.607506  55.004080  0.000125   \n",
       "2011-10-08 12:47:10 2011-10-08 12:47:10 -1.607435  55.004078  0.000072   \n",
       "2011-10-08 12:47:15 2011-10-08 12:47:15 -1.607548  55.004110 -0.000114   \n",
       "2011-10-08 12:48:40 2011-10-08 12:48:40 -1.607383  55.004097  0.000165   \n",
       "2011-10-08 12:54:15 2011-10-08 12:54:15 -1.607390  55.004017 -0.000007   \n",
       "2011-10-08 12:54:20 2011-10-08 12:54:20 -1.607375  55.004050  0.000015   \n",
       "2011-10-08 12:54:25 2011-10-08 12:54:25 -1.607365  55.004090  0.000010   \n",
       "2011-10-08 12:56:15 2011-10-08 12:56:15 -1.607372  55.004130 -0.000007   \n",
       "2011-10-08 12:56:20 2011-10-08 12:56:20 -1.607404  55.004253 -0.000032   \n",
       "\n",
       "                        v_lat  norm_v_lon  norm_v_lat  norm_v_lon-1  \\\n",
       "2011-10-08 12:45:25 -0.000027   -0.743294   -0.668965      0.000000   \n",
       "2011-10-08 12:45:30  0.000090    0.811977    0.583690     -0.743294   \n",
       "2011-10-08 12:47:10 -0.000002    0.999612   -0.027844      0.811977   \n",
       "2011-10-08 12:47:15  0.000032   -0.962665    0.270697      0.999612   \n",
       "2011-10-08 12:48:40 -0.000013    0.996914   -0.078497     -0.962665   \n",
       "2011-10-08 12:54:15 -0.000080   -0.080983   -0.996715      0.996914   \n",
       "2011-10-08 12:54:20  0.000033    0.411513    0.911404     -0.080983   \n",
       "2011-10-08 12:54:25  0.000040    0.233373    0.972387      0.411513   \n",
       "2011-10-08 12:56:15  0.000040   -0.169989    0.985446      0.233373   \n",
       "2011-10-08 12:56:20  0.000123   -0.250306    0.968167     -0.169989   \n",
       "\n",
       "                     norm_v_lat-1     alpha  cum_alpha              time+1  \\\n",
       "2011-10-08 12:45:25      0.000000  0.000000        0.0 2011-10-08 12:45:30   \n",
       "2011-10-08 12:45:30     -0.668965  3.032043        0.0 2011-10-08 12:47:10   \n",
       "2011-10-08 12:47:10      0.583690  0.651113        0.0 2011-10-08 12:47:15   \n",
       "2011-10-08 12:47:15     -0.027844  2.895324        0.0 2011-10-08 12:48:40   \n",
       "2011-10-08 12:48:40      0.270697  2.946054        0.0 2011-10-08 12:54:15   \n",
       "2011-10-08 12:54:15     -0.078497  1.573290        0.0 2011-10-08 12:54:20   \n",
       "2011-10-08 12:54:20     -0.996715  2.798551        0.0 2011-10-08 12:54:25   \n",
       "2011-10-08 12:54:25      0.911404  0.188568        0.0 2011-10-08 12:56:15   \n",
       "2011-10-08 12:56:15      0.972387  0.406364        0.0 2011-10-08 12:56:20   \n",
       "2011-10-08 12:56:20      0.985446  0.082178        0.0 2011-10-08 12:56:25   \n",
       "\n",
       "                     duration  \n",
       "2011-10-08 12:45:25       5.0  \n",
       "2011-10-08 12:45:30     100.0  \n",
       "2011-10-08 12:47:10       5.0  \n",
       "2011-10-08 12:47:15      85.0  \n",
       "2011-10-08 12:48:40     335.0  \n",
       "2011-10-08 12:54:15       5.0  \n",
       "2011-10-08 12:54:20       5.0  \n",
       "2011-10-08 12:54:25     110.0  \n",
       "2011-10-08 12:56:15       5.0  \n",
       "2011-10-08 12:56:20       5.0  "
      ]
     },
     "metadata": {},
     "output_type": "display_data"
    }
   ],
   "source": [
    "df['duration'].hist(bins=100, figsize=(12,7), range=(0,50))\n",
    "plt.show()\n",
    "df['duration'].plot()\n",
    "plt.show()\n",
    "print df['duration'].describe()\n",
    "display(df.head(10))"
   ]
  },
  {
   "cell_type": "markdown",
   "metadata": {},
   "source": [
    "## distance"
   ]
  },
  {
   "cell_type": "code",
   "execution_count": 25,
   "metadata": {},
   "outputs": [
    {
     "name": "stdout",
     "output_type": "stream",
     "text": [
      "                           lat       lon      lat+1     lon+1\n",
      "2011-10-08 12:45:25  55.004017 -1.607602  55.003990 -1.607632\n",
      "2011-10-08 12:45:30  55.003990 -1.607632  55.004080 -1.607506\n",
      "2011-10-08 12:47:10  55.004080 -1.607506  55.004078 -1.607435\n",
      "2011-10-08 12:47:15  55.004078 -1.607435  55.004110 -1.607548\n",
      "2011-10-08 12:48:40  55.004110 -1.607548  55.004097 -1.607383\n",
      "2011-10-08 12:54:15  55.004097 -1.607383  55.004017 -1.607390\n",
      "2011-10-08 12:54:20  55.004017 -1.607390  55.004050 -1.607375\n",
      "2011-10-08 12:54:25  55.004050 -1.607375  55.004090 -1.607365\n",
      "2011-10-08 12:56:15  55.004090 -1.607365  55.004130 -1.607372\n",
      "2011-10-08 12:56:20  55.004130 -1.607372  55.004253 -1.607404\n"
     ]
    },
    {
     "data": {
      "text/html": [
       "<div>\n",
       "<table border=\"1\" class=\"dataframe\">\n",
       "  <thead>\n",
       "    <tr style=\"text-align: right;\">\n",
       "      <th></th>\n",
       "      <th>trID</th>\n",
       "      <th>trN</th>\n",
       "      <th>pIdx</th>\n",
       "      <th>lon</th>\n",
       "      <th>lat</th>\n",
       "      <th>time</th>\n",
       "      <th>lon+1</th>\n",
       "      <th>lat+1</th>\n",
       "      <th>v_lon</th>\n",
       "      <th>v_lat</th>\n",
       "      <th>norm_v_lon</th>\n",
       "      <th>norm_v_lat</th>\n",
       "      <th>norm_v_lon-1</th>\n",
       "      <th>norm_v_lat-1</th>\n",
       "      <th>alpha</th>\n",
       "      <th>cum_alpha</th>\n",
       "      <th>time+1</th>\n",
       "      <th>duration</th>\n",
       "      <th>distance</th>\n",
       "    </tr>\n",
       "  </thead>\n",
       "  <tbody>\n",
       "    <tr>\n",
       "      <th>2011-10-08 12:45:25</th>\n",
       "      <td>101_  3_1</td>\n",
       "      <td>1</td>\n",
       "      <td>1</td>\n",
       "      <td>-1.607602</td>\n",
       "      <td>55.004017</td>\n",
       "      <td>2011-10-08 12:45:25</td>\n",
       "      <td>-1.607632</td>\n",
       "      <td>55.003990</td>\n",
       "      <td>-0.000030</td>\n",
       "      <td>-0.000027</td>\n",
       "      <td>-0.743294</td>\n",
       "      <td>-0.668965</td>\n",
       "      <td>0.000000</td>\n",
       "      <td>0.000000</td>\n",
       "      <td>0.000000</td>\n",
       "      <td>0.0</td>\n",
       "      <td>2011-10-08 12:45:30</td>\n",
       "      <td>5.0</td>\n",
       "      <td>3.566432</td>\n",
       "    </tr>\n",
       "    <tr>\n",
       "      <th>2011-10-08 12:45:30</th>\n",
       "      <td>101_  3_1</td>\n",
       "      <td>1</td>\n",
       "      <td>2</td>\n",
       "      <td>-1.607632</td>\n",
       "      <td>55.003990</td>\n",
       "      <td>2011-10-08 12:45:30</td>\n",
       "      <td>-1.607506</td>\n",
       "      <td>55.004080</td>\n",
       "      <td>0.000125</td>\n",
       "      <td>0.000090</td>\n",
       "      <td>0.811977</td>\n",
       "      <td>0.583690</td>\n",
       "      <td>-0.743294</td>\n",
       "      <td>-0.668965</td>\n",
       "      <td>3.032043</td>\n",
       "      <td>0.0</td>\n",
       "      <td>2011-10-08 12:47:10</td>\n",
       "      <td>100.0</td>\n",
       "      <td>12.828211</td>\n",
       "    </tr>\n",
       "    <tr>\n",
       "      <th>2011-10-08 12:47:10</th>\n",
       "      <td>101_  3_1</td>\n",
       "      <td>1</td>\n",
       "      <td>3</td>\n",
       "      <td>-1.607506</td>\n",
       "      <td>55.004080</td>\n",
       "      <td>2011-10-08 12:47:10</td>\n",
       "      <td>-1.607435</td>\n",
       "      <td>55.004078</td>\n",
       "      <td>0.000072</td>\n",
       "      <td>-0.000002</td>\n",
       "      <td>0.999612</td>\n",
       "      <td>-0.027844</td>\n",
       "      <td>0.811977</td>\n",
       "      <td>0.583690</td>\n",
       "      <td>0.651113</td>\n",
       "      <td>0.0</td>\n",
       "      <td>2011-10-08 12:47:15</td>\n",
       "      <td>5.0</td>\n",
       "      <td>4.599698</td>\n",
       "    </tr>\n",
       "    <tr>\n",
       "      <th>2011-10-08 12:47:15</th>\n",
       "      <td>101_  3_1</td>\n",
       "      <td>1</td>\n",
       "      <td>4</td>\n",
       "      <td>-1.607435</td>\n",
       "      <td>55.004078</td>\n",
       "      <td>2011-10-08 12:47:15</td>\n",
       "      <td>-1.607548</td>\n",
       "      <td>55.004110</td>\n",
       "      <td>-0.000114</td>\n",
       "      <td>0.000032</td>\n",
       "      <td>-0.962665</td>\n",
       "      <td>0.270697</td>\n",
       "      <td>0.999612</td>\n",
       "      <td>-0.027844</td>\n",
       "      <td>2.895324</td>\n",
       "      <td>0.0</td>\n",
       "      <td>2011-10-08 12:48:40</td>\n",
       "      <td>85.0</td>\n",
       "      <td>8.106461</td>\n",
       "    </tr>\n",
       "    <tr>\n",
       "      <th>2011-10-08 12:48:40</th>\n",
       "      <td>101_  3_1</td>\n",
       "      <td>1</td>\n",
       "      <td>5</td>\n",
       "      <td>-1.607548</td>\n",
       "      <td>55.004110</td>\n",
       "      <td>2011-10-08 12:48:40</td>\n",
       "      <td>-1.607383</td>\n",
       "      <td>55.004097</td>\n",
       "      <td>0.000165</td>\n",
       "      <td>-0.000013</td>\n",
       "      <td>0.996914</td>\n",
       "      <td>-0.078497</td>\n",
       "      <td>-0.962665</td>\n",
       "      <td>0.270697</td>\n",
       "      <td>2.946054</td>\n",
       "      <td>0.0</td>\n",
       "      <td>2011-10-08 12:54:15</td>\n",
       "      <td>335.0</td>\n",
       "      <td>10.663005</td>\n",
       "    </tr>\n",
       "  </tbody>\n",
       "</table>\n",
       "</div>"
      ],
      "text/plain": [
       "                          trID  trN  pIdx       lon        lat  \\\n",
       "2011-10-08 12:45:25  101_  3_1    1     1 -1.607602  55.004017   \n",
       "2011-10-08 12:45:30  101_  3_1    1     2 -1.607632  55.003990   \n",
       "2011-10-08 12:47:10  101_  3_1    1     3 -1.607506  55.004080   \n",
       "2011-10-08 12:47:15  101_  3_1    1     4 -1.607435  55.004078   \n",
       "2011-10-08 12:48:40  101_  3_1    1     5 -1.607548  55.004110   \n",
       "\n",
       "                                   time     lon+1      lat+1     v_lon  \\\n",
       "2011-10-08 12:45:25 2011-10-08 12:45:25 -1.607632  55.003990 -0.000030   \n",
       "2011-10-08 12:45:30 2011-10-08 12:45:30 -1.607506  55.004080  0.000125   \n",
       "2011-10-08 12:47:10 2011-10-08 12:47:10 -1.607435  55.004078  0.000072   \n",
       "2011-10-08 12:47:15 2011-10-08 12:47:15 -1.607548  55.004110 -0.000114   \n",
       "2011-10-08 12:48:40 2011-10-08 12:48:40 -1.607383  55.004097  0.000165   \n",
       "\n",
       "                        v_lat  norm_v_lon  norm_v_lat  norm_v_lon-1  \\\n",
       "2011-10-08 12:45:25 -0.000027   -0.743294   -0.668965      0.000000   \n",
       "2011-10-08 12:45:30  0.000090    0.811977    0.583690     -0.743294   \n",
       "2011-10-08 12:47:10 -0.000002    0.999612   -0.027844      0.811977   \n",
       "2011-10-08 12:47:15  0.000032   -0.962665    0.270697      0.999612   \n",
       "2011-10-08 12:48:40 -0.000013    0.996914   -0.078497     -0.962665   \n",
       "\n",
       "                     norm_v_lat-1     alpha  cum_alpha              time+1  \\\n",
       "2011-10-08 12:45:25      0.000000  0.000000        0.0 2011-10-08 12:45:30   \n",
       "2011-10-08 12:45:30     -0.668965  3.032043        0.0 2011-10-08 12:47:10   \n",
       "2011-10-08 12:47:10      0.583690  0.651113        0.0 2011-10-08 12:47:15   \n",
       "2011-10-08 12:47:15     -0.027844  2.895324        0.0 2011-10-08 12:48:40   \n",
       "2011-10-08 12:48:40      0.270697  2.946054        0.0 2011-10-08 12:54:15   \n",
       "\n",
       "                     duration   distance  \n",
       "2011-10-08 12:45:25       5.0   3.566432  \n",
       "2011-10-08 12:45:30     100.0  12.828211  \n",
       "2011-10-08 12:47:10       5.0   4.599698  \n",
       "2011-10-08 12:47:15      85.0   8.106461  \n",
       "2011-10-08 12:48:40     335.0  10.663005  "
      ]
     },
     "execution_count": 25,
     "metadata": {},
     "output_type": "execute_result"
    }
   ],
   "source": [
    "def calc_distance(a):\n",
    "    lat_1, lon_1, lat_2, lon_2 = a\n",
    "    return vincenty((lat_1, lon_1), (lat_2, lon_2)).meters\n",
    "\n",
    "# lat, lon geopy.distance\n",
    "print df[['lat', 'lon', 'lat+1', 'lon+1']].head(10)\n",
    "df['distance'] = df[['lat', 'lon', 'lat+1', 'lon+1']].apply(calc_distance, axis=1)\n",
    "df.head()"
   ]
  },
  {
   "cell_type": "markdown",
   "metadata": {},
   "source": [
    "## velocity"
   ]
  },
  {
   "cell_type": "code",
   "execution_count": 26,
   "metadata": {},
   "outputs": [
    {
     "data": {
      "text/plain": [
       "count    721051.000000\n",
       "mean         10.960343\n",
       "std          12.035251\n",
       "min           0.000000\n",
       "25%                NaN\n",
       "50%                NaN\n",
       "75%                NaN\n",
       "max          89.686928\n",
       "Name: velocity, dtype: float64"
      ]
     },
     "execution_count": 26,
     "metadata": {},
     "output_type": "execute_result"
    }
   ],
   "source": [
    "df['velocity'] = 3.6 * np.divide(df['distance'], df['duration'])\n",
    "df['velocity'].describe()"
   ]
  },
  {
   "cell_type": "code",
   "execution_count": 27,
   "metadata": {},
   "outputs": [
    {
     "data": {
      "text/plain": [
       "<matplotlib.axes._subplots.AxesSubplot at 0x68ab5b00>"
      ]
     },
     "execution_count": 27,
     "metadata": {},
     "output_type": "execute_result"
    },
    {
     "data": {
      "image/png": "[encoded data removed]",
      "text/plain": [
       "<matplotlib.figure.Figure at 0x7e409208>"
      ]
     },
     "metadata": {},
     "output_type": "display_data"
    }
   ],
   "source": [
    "df['velocity'].plot()"
   ]
  },
  {
   "cell_type": "code",
   "execution_count": 28,
   "metadata": {},
   "outputs": [
    {
     "data": {
      "text/plain": [
       "<matplotlib.text.Text at 0xd72695f8>"
      ]
     },
     "execution_count": 28,
     "metadata": {},
     "output_type": "execute_result"
    },
    {
     "data": {
      "image/png": "[encoded data removed]",
      "text/plain": [
       "<matplotlib.figure.Figure at 0x7e4143c8>"
      ]
     },
     "metadata": {},
     "output_type": "display_data"
    }
   ],
   "source": [
    "ax = df['velocity'].hist(figsize=(12,7), bins=100)\n",
    "ax.set_xlabel(\"velocity in km/h\")"
   ]
  },
  {
   "cell_type": "markdown",
   "metadata": {},
   "source": [
    "### draw points whose velocity exceeds threshold"
   ]
  },
  {
   "cell_type": "markdown",
   "metadata": {},
   "source": [
    "#### threshold 35 km/h"
   ]
  },
  {
   "cell_type": "code",
   "execution_count": 29,
   "metadata": {},
   "outputs": [
    {
     "name": "stdout",
     "output_type": "stream",
     "text": [
      "36381\n"
     ]
    }
   ],
   "source": [
    "v_threshold = 35\n",
    "\n",
    "# line plot of trajectories\n",
    "groups = df.groupby('trID')\n",
    "for grp_id, grp_df in groups:\n",
    "    geoplotlib.add_layer(LineLayer(grp_df))\n",
    "\n",
    "# dot plot of all possible jump points\n",
    "fast_dict = DataAccessObject.from_dataframe(df[df['velocity'] > v_threshold])\n",
    "print len(fast_dict)\n",
    "\n",
    "def alpha_tooltip(p):\n",
    "    return \"velocity: {} trid: {}\".format(np.round(p['velocity'], 1), p['trID'])\n",
    "geoplotlib.dot(fast_dict, point_size=3, f_tooltip=alpha_tooltip)\n",
    "geoplotlib.show()"
   ]
  },
  {
   "cell_type": "markdown",
   "metadata": {},
   "source": [
    "#### threshold 5 km/h"
   ]
  },
  {
   "cell_type": "code",
   "execution_count": 30,
   "metadata": {},
   "outputs": [
    {
     "name": "stdout",
     "output_type": "stream",
     "text": [
      "36381\n"
     ]
    }
   ],
   "source": [
    "v_threshold = 5\n",
    "\n",
    "# line plot of trajectories\n",
    "groups = df.groupby('trID')\n",
    "for grp_id, grp_df in groups:\n",
    "    geoplotlib.add_layer(LineLayer(grp_df))\n",
    "\n",
    "# dot plot of all possible jump points\n",
    "slow_dict = DataAccessObject.from_dataframe(df[df['velocity'] < v_threshold])\n",
    "print len(fast_dict)\n",
    "\n",
    "def alpha_tooltip(p):\n",
    "    return \"velocity: {} trid: {}\".format(np.round(p['velocity'], 1), p['trID'])\n",
    "geoplotlib.dot(slow_dict, point_size=3, f_tooltip=alpha_tooltip)\n",
    "geoplotlib.show()"
   ]
  },
  {
   "cell_type": "markdown",
   "metadata": {},
   "source": [
    "#### classify line segments according to their velocity"
   ]
  },
  {
   "cell_type": "markdown",
   "metadata": {},
   "source": [
    "- <b>velocity < 5</b> : slow (color: blue)\n",
    "- <b>5 < velocity < 15</b> : medium (color: green) \n",
    "- <b>velocity > 35</b> : fast (color: red) "
   ]
  },
  {
   "cell_type": "code",
   "execution_count": 31,
   "metadata": {},
   "outputs": [],
   "source": [
    "v_threshold1 = 5\n",
    "v_threshold2 = 15\n",
    "\n",
    "# line plot of trajectories\n",
    "groups = df.groupby('trID')\n",
    "for grp_id, grp_df in groups:\n",
    "    slow_df = grp_df[grp_df['velocity'] < v_threshold1]\n",
    "    medium_df = grp_df[(grp_df['velocity'] >= v_threshold1) & (grp_df['velocity'] < v_threshold2)]\n",
    "    fast_df = grp_df[grp_df['velocity'] >= v_threshold2]\n",
    "    if len(slow_df) > 0:\n",
    "        geoplotlib.graph(slow_df, src_lat='lat', src_lon='lon',\n",
    "                         dest_lat='lat+1', dest_lon='lon+1', color=[0,0,255])\n",
    "    if len(fast_df) > 0:\n",
    "        geoplotlib.graph(fast_df, src_lat='lat', src_lon='lon',\n",
    "                         dest_lat='lat+1', dest_lon='lon+1', color=[255,0,0])\n",
    "    if len(medium_df) > 0:\n",
    "        geoplotlib.graph(medium_df, src_lat='lat', src_lon='lon',\n",
    "                         dest_lat='lat+1', dest_lon='lon+1', color=[0,255,0])\n",
    "\n",
    "geoplotlib.show()"
   ]
  },
  {
   "cell_type": "markdown",
   "metadata": {},
   "source": [
    "## bounding box diagonal"
   ]
  },
  {
   "cell_type": "code",
   "execution_count": 33,
   "metadata": {},
   "outputs": [],
   "source": [
    "window = 15\n",
    "groups = df.groupby('trID')\n",
    "frames = []\n",
    "\n",
    "for grp_id, grp_df in groups:\n",
    "    tmp_df = grp_df.copy()\n",
    "    tmp_df['min_bounding_lat'] = tmp_df['lat'].rolling(window=window).min()\n",
    "    tmp_df['max_bounding_lat'] = tmp_df['lat'].rolling(window=window).max()\n",
    "    tmp_df['min_bounding_lon'] = tmp_df['lon'].rolling(window=window).min()\n",
    "    tmp_df['max_bounding_lon'] = tmp_df['lon'].rolling(window=window).max()\n",
    "    tmp_df['bb_diag'] = ((tmp_df['max_bounding_lon'] - tmp_df['min_bounding_lon'])**2 + (tmp_df['max_bounding_lat'] - tmp_df['min_bounding_lat'])**2)**0.5\n",
    "    frames.append(tmp_df)\n",
    "df = pd.concat(frames)"
   ]
  },
  {
   "cell_type": "code",
   "execution_count": 34,
   "metadata": {},
   "outputs": [
    {
     "data": {
      "text/plain": [
       "<matplotlib.text.Text at 0x118299828>"
      ]
     },
     "execution_count": 34,
     "metadata": {},
     "output_type": "execute_result"
    },
    {
     "data": {
      "image/png": "[encoded data removed]",
      "text/plain": [
       "<matplotlib.figure.Figure at 0x68112470>"
      ]
     },
     "metadata": {},
     "output_type": "display_data"
    }
   ],
   "source": [
    "ax = df['bb_diag'].dropna().hist(bins=100, range=(0,0.01), figsize=(12,6))\n",
    "ax.set_title('window = {}'.format(window))\n",
    "ax.set_xlabel('bounding box diagonal length')\n",
    "ax.set_ylabel('number of points')"
   ]
  },
  {
   "cell_type": "markdown",
   "metadata": {},
   "source": [
    "#### Classify line segments according to the bounding box diagonal length"
   ]
  },
  {
   "cell_type": "markdown",
   "metadata": {},
   "source": [
    "- length in lat and lon units\n",
    "- 3 classes with thresholds\n",
    "    - bb_threshold1 = 0.0015\n",
    "    - bb_threshold2 = 0.002"
   ]
  },
  {
   "cell_type": "code",
   "execution_count": 35,
   "metadata": {},
   "outputs": [
    {
     "data": {
      "image/png": "[encoded data removed]",
      "text/plain": [
       "<matplotlib.figure.Figure at 0x68217c50>"
      ]
     },
     "metadata": {},
     "output_type": "display_data"
    }
   ],
   "source": [
    "bb_threshold1 = 0.0015\n",
    "bb_threshold2 = 0.002\n",
    "\n",
    "# line plot of trajectories\n",
    "i=0\n",
    "groups = df.groupby('trID')\n",
    "for grp_id, grp_df in groups:\n",
    "    grp_df = grp_df.iloc[:-1]\n",
    "    if i == 0:\n",
    "        ax = grp_df['bb_diag'].dropna().hist(bins=100, range=(0,0.01), figsize=(12,6))\n",
    "    i+=1\n",
    "    slow_df = grp_df[grp_df['bb_diag'] < bb_threshold1]\n",
    "    medium_df = grp_df[(grp_df['bb_diag'] >= bb_threshold1) & (grp_df['bb_diag'] < bb_threshold2)]\n",
    "    fast_df = grp_df[grp_df['bb_diag'] >= bb_threshold2]\n",
    "    if len(slow_df) > 0:\n",
    "        geoplotlib.graph(slow_df, src_lat='lat', src_lon='lon',\n",
    "                         dest_lat='lat+1', dest_lon='lon+1', color=[0,0,255])\n",
    "        \n",
    "    if len(fast_df) > 0:\n",
    "        geoplotlib.graph(fast_df, src_lat='lat', src_lon='lon',\n",
    "                         dest_lat='lat+1', dest_lon='lon+1', color=[255,0,0])\n",
    "\n",
    "    if len(medium_df) > 0:\n",
    "        geoplotlib.graph(medium_df, src_lat='lat', src_lon='lon',\n",
    "                         dest_lat='lat+1', dest_lon='lon+1', color=[0,255,0])\n",
    "\n",
    "geoplotlib.show()"
   ]
  },
  {
   "cell_type": "markdown",
   "metadata": {},
   "source": [
    "## DBSCAN clustering"
   ]
  },
  {
   "cell_type": "code",
   "execution_count": 16,
   "metadata": {},
   "outputs": [
    {
     "data": {
      "text/plain": [
       "count    7.226350e+05\n",
       "mean     1.336394e+04\n",
       "std      2.847792e+05\n",
       "min      0.000000e+00\n",
       "25%      4.911464e+00\n",
       "50%      8.585351e+00\n",
       "75%      2.277579e+01\n",
       "max      6.210124e+06\n",
       "Name: distance, dtype: float64"
      ]
     },
     "execution_count": 16,
     "metadata": {},
     "output_type": "execute_result"
    },
    {
     "data": {
      "image/png": "[encoded data removed]",
      "text/plain": [
       "<matplotlib.figure.Figure at 0x7ccd3550>"
      ]
     },
     "metadata": {},
     "output_type": "display_data"
    }
   ],
   "source": [
    "df['distance'].hist(bins=100, figsize=(16,8), range=(0,100))\n",
    "df['distance'].describe()"
   ]
  },
  {
   "cell_type": "code",
   "execution_count": 11,
   "metadata": {
    "collapsed": true
   },
   "outputs": [],
   "source": [
    "duration_threshold = 2400"
   ]
  },
  {
   "cell_type": "markdown",
   "metadata": {},
   "source": [
    "additional notes to metric:\n",
    "- timestamp difference > duration_threshold => return infinity\n",
    "- vincenty distance calculates distance on ellipsoid"
   ]
  },
  {
   "cell_type": "markdown",
   "metadata": {},
   "source": [
    "### Clustering for one trajectory!"
   ]
  },
  {
   "cell_type": "code",
   "execution_count": 13,
   "metadata": {},
   "outputs": [
    {
     "name": "stdout",
     "output_type": "stream",
     "text": [
      "vor DBScan\n",
      "nach DBScan\n",
      "number of cluster: 2\n"
     ]
    }
   ],
   "source": [
    "eps = 0.0025\n",
    "min_samples = 15\n",
    "n_clusters = []\n",
    "distances = []\n",
    "\n",
    "# this is the important part\n",
    "# x[0]: longitude\n",
    "# x[1]: latitude\n",
    "# x[2]: timestamp\n",
    "# same for y\n",
    "def stop_metric(x, y):\n",
    "    duration = abs(x[2]-y[2])\n",
    "    if duration > duration_threshold:\n",
    "        return np.inf\n",
    "    distance = vincenty((x[1], x[0]), (y[1], y[0])).meters\n",
    "    if (duration < 1e-5):\n",
    "        return 0\n",
    "    else:\n",
    "        distances.append(distance/duration)\n",
    "        return distance/duration\n",
    "\n",
    "start = df['time'][0]\n",
    "groups = df.groupby('trID')\n",
    "\n",
    "# trajectory id is set here\n",
    "filter_id = '128_ 26_1'\n",
    "\n",
    "grp_df = groups.get_group(filter_id)\n",
    "grp_df = grp_df.copy()\n",
    "geoplotlib.add_layer(LineLayer(grp_df))\n",
    "\n",
    "# time_f: seconds from first trajectory point\n",
    "grp_df['time_f'] = (grp_df['time'] - start)\n",
    "grp_df['time_f'] = grp_df['time_f'] / np.timedelta64(1, 's')\n",
    "X = np.array(grp_df[['lon', 'lat', 'time_f']])\n",
    "\n",
    "# Clustering using own metric\n",
    "print 'before DBScan'\n",
    "db = DBSCAN(eps=eps, min_samples=min_samples, metric=stop_metric).fit(X)\n",
    "print 'after DBScan'\n",
    "\n",
    "core_samples_mask = np.zeros_like(db.labels_, dtype=bool)\n",
    "core_samples_mask[db.core_sample_indices_] = True\n",
    "labels = db.labels_\n",
    "\n",
    "# Number of clusters in labels, ignoring noise if present.\n",
    "n_clusters_ = len(set(labels)) - (1 if -1 in labels else 0)\n",
    "\n",
    "print 'number of cluster: {}'.format(n_clusters_)\n",
    "n_clusters.append(n_clusters_)\n",
    "\n",
    "# Black removed and is used for noise instead.\n",
    "unique_labels = set(labels)\n",
    "colors = plt.cm.Spectral(np.linspace(0, 1, len(unique_labels)))\n",
    "\n",
    "# Plot results\n",
    "for k, col in zip(unique_labels, colors):\n",
    "    if k == -1:\n",
    "        # Black used for noise.\n",
    "        col = [0,0,0]\n",
    "    else:\n",
    "        col = [int(c * 255) for c in col[:3]]\n",
    "    class_member_mask = (labels == k)\n",
    "\n",
    "    xy = X[class_member_mask & core_samples_mask]\n",
    "    if (len(xy[:, 1]) > 0 and len(xy[:, 0]) > 0):\n",
    "        geoplotlib.dot({\n",
    "            'lon' : xy[:, 0],\n",
    "            'lat' : xy[:, 1]\n",
    "        }, color=col, point_size=3)\n",
    "\n",
    "    xy = X[class_member_mask & ~core_samples_mask]\n",
    "    if (len(xy[:, 1]) > 0 and len(xy[:, 0]) > 0):\n",
    "        geoplotlib.dot({\n",
    "            'lon' : xy[:, 0],\n",
    "            'lat' : xy[:, 1]\n",
    "        }, color=col, point_size=3)\n",
    "ds = pd.Series(distances)\n",
    "geoplotlib.show()"
   ]
  },
  {
   "cell_type": "markdown",
   "metadata": {},
   "source": [
    "## Try many epsilons for clustering"
   ]
  },
  {
   "cell_type": "code",
   "execution_count": null,
   "metadata": {},
   "outputs": [],
   "source": [
    "eps = 0.1\n",
    "min_samples = 8\n",
    "n_clusters = []\n",
    "def stop_metric(x, y):\n",
    "    duration = abs(x[2]-y[2])\n",
    "    if duration > duration_threshold:\n",
    "        return np.inf\n",
    "    distance = vincenty((x[1], x[0]), (y[1], y[0])).meters\n",
    "#     print (x[1], x[0]), (y[1], y[0])\n",
    "#     print 'distance', distance, 'duration', duration, distance/duration\n",
    "#     if (distance < 1e-5 and duration < 1e-5):\n",
    "    if (duration < 1e-5):\n",
    "        return 0\n",
    "    else:\n",
    "        distances.append(distance/duration)\n",
    "        return distance/duration\n",
    "\n",
    "for eps in np.arange(0.2,0.5,0.025):\n",
    "    distances = []\n",
    "    print 'eps', eps\n",
    "    start = df['time'][0]\n",
    "    groups = df.groupby('trID')\n",
    "    # filter_id = '101_  3_1'\n",
    "    filter_id = '128_ 26_1'\n",
    "    grp_df = groups.get_group(filter_id)\n",
    "    grp_df = grp_df.copy()\n",
    "    geoplotlib.add_layer(LineLayer(grp_df))\n",
    "    # print 'len group: {}'.format(len(grp_df))\n",
    "\n",
    "    grp_df['time_f'] = (grp_df['time'] - start)\n",
    "    grp_df['time_f'] = grp_df['time_f'] / np.timedelta64(1, 's')\n",
    "    X = np.array(grp_df[['lon', 'lat', 'time_f']])\n",
    "    print 'vor DBScan'\n",
    "    db = DBSCAN(eps=eps, min_samples=min_samples, metric=stop_metric).fit(X)\n",
    "    print 'nach DBScan'\n",
    "\n",
    "    core_samples_mask = np.zeros_like(db.labels_, dtype=bool)\n",
    "    core_samples_mask[db.core_sample_indices_] = True\n",
    "    labels = db.labels_\n",
    "\n",
    "    # Number of clusters in labels, ignoring noise if present.\n",
    "    n_clusters_ = len(set(labels)) - (1 if -1 in labels else 0)\n",
    "\n",
    "    print 'number of cluster: {}'.format(n_clusters_)\n",
    "    n_clusters.append(n_clusters_)\n",
    "    \n",
    "    # Black removed and is used for noise instead.\n",
    "    unique_labels = set(labels)\n",
    "    colors = plt.cm.Spectral(np.linspace(0, 1, len(unique_labels)))\n",
    "\n",
    "    for k, col in zip(unique_labels, colors):\n",
    "        if k == -1:\n",
    "            # Black used for noise.\n",
    "            col = [0,0,0]\n",
    "        else:\n",
    "            col = [int(c * 255) for c in col[:3]]\n",
    "        class_member_mask = (labels == k)\n",
    "\n",
    "        xy = X[class_member_mask & core_samples_mask]\n",
    "        if (len(xy[:, 1]) > 0 and len(xy[:, 0]) > 0):\n",
    "            geoplotlib.dot({\n",
    "                'lon' : xy[:, 0],\n",
    "                'lat' : xy[:, 1]\n",
    "            }, color=col, point_size=3)\n",
    "\n",
    "        xy = X[class_member_mask & ~core_samples_mask]\n",
    "        if (len(xy[:, 1]) > 0 and len(xy[:, 0]) > 0):\n",
    "            geoplotlib.dot({\n",
    "                'lon' : xy[:, 0],\n",
    "                'lat' : xy[:, 1]\n",
    "            }, color=col, point_size=2)\n",
    "    ds = pd.Series(distances)\n",
    "\n",
    "#geoplotlib.show()"
   ]
  },
  {
   "cell_type": "markdown",
   "metadata": {},
   "source": [
    "#### plot n_clusters series from above eps tries"
   ]
  },
  {
   "cell_type": "code",
   "execution_count": 38,
   "metadata": {},
   "outputs": [
    {
     "ename": "NameError",
     "evalue": "name 'n_clusters' is not defined",
     "output_type": "error",
     "traceback": [
      "\u001b[0;31m---------------------------------------------------------------------------\u001b[0m",
      "\u001b[0;31mNameError\u001b[0m                                 Traceback (most recent call last)",
      "\u001b[0;32m<ipython-input-38-99695e7198e6>\u001b[0m in \u001b[0;36m<module>\u001b[0;34m()\u001b[0m\n\u001b[0;32m----> 1\u001b[0;31m \u001b[0mcluster_series\u001b[0m \u001b[1;33m=\u001b[0m \u001b[0mpd\u001b[0m\u001b[1;33m.\u001b[0m\u001b[0mSeries\u001b[0m\u001b[1;33m(\u001b[0m\u001b[0mn_clusters\u001b[0m\u001b[1;33m)\u001b[0m\u001b[1;33m\u001b[0m\u001b[0m\n\u001b[0m\u001b[1;32m      2\u001b[0m \u001b[0meps_series\u001b[0m \u001b[1;33m=\u001b[0m \u001b[0mpd\u001b[0m\u001b[1;33m.\u001b[0m\u001b[0mSeries\u001b[0m\u001b[1;33m(\u001b[0m\u001b[1;33m[\u001b[0m\u001b[1;36m0.05\u001b[0m \u001b[1;33m+\u001b[0m \u001b[0mi\u001b[0m \u001b[1;33m*\u001b[0m \u001b[1;36m0.05\u001b[0m \u001b[1;32mfor\u001b[0m \u001b[0mi\u001b[0m \u001b[1;32min\u001b[0m \u001b[0mrange\u001b[0m\u001b[1;33m(\u001b[0m\u001b[1;36m24\u001b[0m\u001b[1;33m)\u001b[0m\u001b[1;33m]\u001b[0m\u001b[1;33m)\u001b[0m\u001b[1;33m\u001b[0m\u001b[0m\n\u001b[1;32m      3\u001b[0m \u001b[0mn_cluster_df\u001b[0m \u001b[1;33m=\u001b[0m \u001b[0mpd\u001b[0m\u001b[1;33m.\u001b[0m\u001b[0mDataFrame\u001b[0m\u001b[1;33m(\u001b[0m\u001b[1;33m{\u001b[0m\u001b[1;34m'n_cluster'\u001b[0m \u001b[1;33m:\u001b[0m \u001b[0mcluster_series\u001b[0m\u001b[1;33m,\u001b[0m \u001b[1;34m'eps'\u001b[0m\u001b[1;33m:\u001b[0m \u001b[0meps_series\u001b[0m\u001b[1;33m}\u001b[0m\u001b[1;33m)\u001b[0m\u001b[1;33m\u001b[0m\u001b[0m\n\u001b[1;32m      4\u001b[0m \u001b[0mn_cluster_df\u001b[0m\u001b[1;33m.\u001b[0m\u001b[0mplot\u001b[0m\u001b[1;33m(\u001b[0m\u001b[0mx\u001b[0m\u001b[1;33m=\u001b[0m\u001b[1;34m'eps'\u001b[0m\u001b[1;33m,\u001b[0m \u001b[0my\u001b[0m\u001b[1;33m=\u001b[0m\u001b[1;34m'n_cluster'\u001b[0m\u001b[1;33m)\u001b[0m\u001b[1;33m\u001b[0m\u001b[0m\n",
      "\u001b[0;31mNameError\u001b[0m: name 'n_clusters' is not defined"
     ]
    }
   ],
   "source": [
    "cluster_series = pd.Series(n_clusters)\n",
    "eps_series = pd.Series([0.05 + i * 0.05 for i in range(24)])\n",
    "n_cluster_df = pd.DataFrame({'n_cluster' : cluster_series, 'eps': eps_series})\n",
    "n_cluster_df.plot(x='eps', y='n_cluster')"
   ]
  },
  {
   "cell_type": "markdown",
   "metadata": {},
   "source": [
    "## Try many min_points for clustering"
   ]
  },
  {
   "cell_type": "code",
   "execution_count": null,
   "metadata": {},
   "outputs": [],
   "source": [
    "eps = 0.25\n",
    "n_clusters = []\n",
    "def stop_metric(x, y):\n",
    "    duration = abs(x[2]-y[2])\n",
    "    if duration > duration_threshold:\n",
    "        return np.inf\n",
    "    distance = vincenty((x[1], x[0]), (y[1], y[0])).meters\n",
    "#     print (x[1], x[0]), (y[1], y[0])\n",
    "#     print 'distance', distance, 'duration', duration, distance/duration\n",
    "#     if (distance < 1e-5 and duration < 1e-5):\n",
    "    if (duration < 1e-5):\n",
    "        return 0\n",
    "    else:\n",
    "        distances.append(distance/duration)\n",
    "        return distance/duration\n",
    "\n",
    "for min_samples in range(14,20):\n",
    "    distances = []\n",
    "    print 'min_points', min_samples\n",
    "    start = df['time'][0]\n",
    "    groups = df.groupby('trID')\n",
    "    # filter_id = '101_  3_1'\n",
    "    filter_id = '128_ 26_1'\n",
    "    grp_df = groups.get_group(filter_id)\n",
    "    grp_df = grp_df.copy()\n",
    "    geoplotlib.add_layer(LineLayer(grp_df))\n",
    "    # print 'len group: {}'.format(len(grp_df))\n",
    "\n",
    "    grp_df['time_f'] = (grp_df['time'] - start)\n",
    "    grp_df['time_f'] = grp_df['time_f'] / np.timedelta64(1, 's')\n",
    "    X = np.array(grp_df[['lon', 'lat', 'time_f']])\n",
    "    db = DBSCAN(eps=eps, min_samples=min_samples, metric=stop_metric).fit(X)\n",
    "\n",
    "    core_samples_mask = np.zeros_like(db.labels_, dtype=bool)\n",
    "    core_samples_mask[db.core_sample_indices_] = True\n",
    "    labels = db.labels_\n",
    "\n",
    "    # Number of clusters in labels, ignoring noise if present.\n",
    "    n_clusters_ = len(set(labels)) - (1 if -1 in labels else 0)\n",
    "\n",
    "    print 'number of cluster: {}'.format(n_clusters_)\n",
    "    n_clusters.append(n_clusters_)\n",
    "    \n",
    "    # Black removed and is used for noise instead.\n",
    "    unique_labels = set(labels)\n",
    "    colors = plt.cm.Spectral(np.linspace(0, 1, len(unique_labels)))\n",
    "\n",
    "    for k, col in zip(unique_labels, colors):\n",
    "        if k == -1:\n",
    "            # Black used for noise.\n",
    "            col = [0,0,0]\n",
    "        else:\n",
    "            col = [int(c * 255) for c in col[:3]]\n",
    "        class_member_mask = (labels == k)\n",
    "\n",
    "        xy = X[class_member_mask & core_samples_mask]\n",
    "        if (len(xy[:, 1]) > 0 and len(xy[:, 0]) > 0):\n",
    "            geoplotlib.dot({\n",
    "                'lon' : xy[:, 0],\n",
    "                'lat' : xy[:, 1]\n",
    "            }, color=col, point_size=3)\n",
    "\n",
    "        xy = X[class_member_mask & ~core_samples_mask]\n",
    "        if (len(xy[:, 1]) > 0 and len(xy[:, 0]) > 0):\n",
    "            geoplotlib.dot({\n",
    "                'lon' : xy[:, 0],\n",
    "                'lat' : xy[:, 1]\n",
    "            }, color=col, point_size=2)\n",
    "    ds = pd.Series(distances)\n",
    "\n",
    "#geoplotlib.show()"
   ]
  },
  {
   "cell_type": "markdown",
   "metadata": {},
   "source": [
    "#### plot n_clusters series from min_points tries"
   ]
  },
  {
   "cell_type": "code",
   "execution_count": 32,
   "metadata": {},
   "outputs": [
    {
     "data": {
      "text/plain": [
       "<matplotlib.axes._subplots.AxesSubplot at 0x71e9ad68>"
      ]
     },
     "execution_count": 32,
     "metadata": {},
     "output_type": "execute_result"
    },
    {
     "data": {
      "image/png": "[encoded data removed]",
      "text/plain": [
       "<matplotlib.figure.Figure at 0x741185c0>"
      ]
     },
     "metadata": {},
     "output_type": "display_data"
    }
   ],
   "source": [
    "cluster_series = pd.Series(n_clusters)\n",
    "mp_series = pd.Series(range(2,8))\n",
    "n_cluster_df = pd.DataFrame({'n_cluster' : cluster_series, 'min_points': mp_series})\n",
    "n_cluster_df.plot(x='min_points', y='n_cluster')"
   ]
  },
  {
   "cell_type": "code",
   "execution_count": 20,
   "metadata": {},
   "outputs": [
    {
     "name": "stdout",
     "output_type": "stream",
     "text": [
      "count    885942.000000\n",
      "mean          0.779081\n",
      "std           7.224114\n",
      "min           0.000000\n",
      "25%           0.035771\n",
      "50%           0.088194\n",
      "75%           0.364136\n",
      "max        2914.403219\n",
      "dtype: float64\n"
     ]
    },
    {
     "data": {
      "image/png": "[encoded data removed]",
      "text/plain": [
       "<matplotlib.figure.Figure at 0x70dd70b8>"
      ]
     },
     "metadata": {},
     "output_type": "display_data"
    }
   ],
   "source": [
    "ds.hist(bins=100, range=(0,0.5), figsize=(12,7))\n",
    "print ds.describe()\n",
    "plt.show()"
   ]
  },
  {
   "cell_type": "markdown",
   "metadata": {},
   "source": [
    "# Apply Filter"
   ]
  },
  {
   "cell_type": "markdown",
   "metadata": {},
   "source": [
    "## Cumulative alpha thresholding"
   ]
  },
  {
   "cell_type": "code",
   "execution_count": 39,
   "metadata": {},
   "outputs": [],
   "source": [
    "threshold = 9\n",
    "df_jump = df[df['cum_alpha'] > threshold]"
   ]
  },
  {
   "cell_type": "markdown",
   "metadata": {},
   "source": [
    "#### dot plot points whose cumulative alpha exceeds the threshold"
   ]
  },
  {
   "cell_type": "code",
   "execution_count": 40,
   "metadata": {},
   "outputs": [],
   "source": [
    "groups = df.groupby('trID')\n",
    "for grp_id, grp_df in groups:\n",
    "    geoplotlib.add_layer(LineLayer(grp_df))\n",
    "\n",
    "# dot plot of all possible jump points\n",
    "jump_dict = DataAccessObject.from_dataframe(df_jump)\n",
    "\n",
    "def alpha_tooltip(p):\n",
    "    return \"alpha: {} deg: {} cum_alpha: {} time: {}\".format(np.round(p['alpha'], 2),\n",
    "                                                    np.round(p['alpha'] / np.pi * 180, 0),\n",
    "                                                    np.round(p['cum_alpha'], 1),\n",
    "                                                    p['time'])\n",
    "geoplotlib.dot(jump_dict, point_size=3, f_tooltip=alpha_tooltip)\n",
    "geoplotlib.show()"
   ]
  },
  {
   "cell_type": "markdown",
   "metadata": {},
   "source": [
    "#### Line plot after removing every point above threshold"
   ]
  },
  {
   "cell_type": "code",
   "execution_count": 42,
   "metadata": {
    "collapsed": true
   },
   "outputs": [],
   "source": [
    "df_no_jump = df[df['cum_alpha'] < threshold]\n",
    "# line plot of corrected trajectories\n",
    "groups = df_no_jump.groupby('trID')\n",
    "for grp_id, grp_df in groups:\n",
    "    geoplotlib.add_layer(LineLayer(grp_df))\n",
    "geoplotlib.show()"
   ]
  },
  {
   "cell_type": "code",
   "execution_count": null,
   "metadata": {
    "collapsed": true
   },
   "outputs": [],
   "source": [
    "df['cum_alpha'].to_csv('cum_alpha.csv')"
   ]
  },
  {
   "cell_type": "markdown",
   "metadata": {},
   "source": [
    "### cumulative alpha histograms for different windows"
   ]
  },
  {
   "cell_type": "code",
   "execution_count": 18,
   "metadata": {
    "scrolled": false
   },
   "outputs": [
    {
     "data": {
      "image/png": "[encoded data removed]",
      "text/plain": [
       "<matplotlib.figure.Figure at 0x76d094a8>"
      ]
     },
     "metadata": {},
     "output_type": "display_data"
    }
   ],
   "source": [
    "f, a = plt.subplots(3,3, figsize=(12,9))\n",
    "a = a.ravel()\n",
    "\n",
    "for idx,ax in enumerate(a):\n",
    "    window = (idx+1) * 5    \n",
    "    df['cum_alpha'] = df['alpha'].rolling(window=window).sum()\n",
    "    ax.hist(df['cum_alpha'].fillna(0))\n",
    "    ax.set_title('window = {}'.format(window))\n",
    "    ax.set_xlabel('cumulative alpha')\n",
    "    ax.set_ylabel('number of points')\n",
    "plt.tight_layout()"
   ]
  },
  {
   "cell_type": "code",
   "execution_count": 16,
   "metadata": {},
   "outputs": [
    {
     "name": "stdout",
     "output_type": "stream",
     "text": [
      "count    722515.000000\n",
      "mean          0.669827\n",
      "std           0.841114\n",
      "min           0.000000\n",
      "25%                NaN\n",
      "50%                NaN\n",
      "75%                NaN\n",
      "max           3.141593\n",
      "Name: alpha, dtype: float64\n"
     ]
    },
    {
     "data": {
      "text/plain": [
       "<matplotlib.axes._subplots.AxesSubplot at 0x7287a2b0>"
      ]
     },
     "execution_count": 16,
     "metadata": {},
     "output_type": "execute_result"
    },
    {
     "data": {
      "image/png": "[encoded data removed]",
      "text/plain": [
       "<matplotlib.figure.Figure at 0x60183320>"
      ]
     },
     "metadata": {},
     "output_type": "display_data"
    }
   ],
   "source": [
    "print df['alpha'].describe()\n",
    "df['alpha'].hist()"
   ]
  },
  {
   "cell_type": "markdown",
   "metadata": {},
   "source": [
    "### plot of points with big direction change/alpha"
   ]
  },
  {
   "cell_type": "code",
   "execution_count": 15,
   "metadata": {},
   "outputs": [
    {
     "name": "stdout",
     "output_type": "stream",
     "text": [
      "113385\n"
     ]
    }
   ],
   "source": [
    "df_big_angle = df[df['alpha'] > (np.pi/2)]\n",
    "print len(df_big_angle)\n",
    "\n",
    "# line plot of trajectories\n",
    "groups = df.groupby('trID')\n",
    "for grp_id, grp_df in groups:\n",
    "    geoplotlib.add_layer(LineLayer(grp_df))\n",
    "\n",
    "# dot plot of all possible jump points\n",
    "geoplotlib.dot(df_big_angle)\n",
    "geoplotlib.show()"
   ]
  },
  {
   "cell_type": "markdown",
   "metadata": {},
   "source": [
    "## Calculate bounding box diagonal for different windows and plot result"
   ]
  },
  {
   "cell_type": "code",
   "execution_count": 49,
   "metadata": {},
   "outputs": [
    {
     "name": "stdout",
     "output_type": "stream",
     "text": [
      "window 5\n",
      "window 10\n",
      "window 15\n",
      "window 20\n",
      "window 25\n",
      "window 30\n",
      "window 35\n",
      "window 40\n",
      "window 45\n"
     ]
    },
    {
     "data": {
      "image/png": "[encoded data removed]",
      "text/plain": [
       "<matplotlib.figure.Figure at 0x7dcccda0>"
      ]
     },
     "metadata": {},
     "output_type": "display_data"
    }
   ],
   "source": [
    "f, a = plt.subplots(3,3, figsize=(12,9))\n",
    "a = a.ravel()\n",
    "\n",
    "for idx,ax in enumerate(a):\n",
    "    window = (idx+1) * 5\n",
    "    \n",
    "    groups = df.groupby('trID')\n",
    "    frames = []\n",
    "    print 'window', window\n",
    "    for grp_id, grp_df in groups:\n",
    "        tmp_df = grp_df.copy()\n",
    "        tmp_df['min_bounding_lat'] = tmp_df['lat'].rolling(window=window).min()\n",
    "        tmp_df['max_bounding_lat'] = tmp_df['lat'].rolling(window=window).max()\n",
    "        tmp_df['min_bounding_lon'] = tmp_df['lon'].rolling(window=window).min()\n",
    "        tmp_df['max_bounding_lon'] = tmp_df['lon'].rolling(window=window).max()\n",
    "        tmp_df['bb_diag'] = ((tmp_df['max_bounding_lon'] - tmp_df['min_bounding_lon'])**2 + (tmp_df['max_bounding_lat'] - tmp_df['min_bounding_lat'])**2)**0.5\n",
    "        frames.append(tmp_df)\n",
    "    df = pd.concat(frames)\n",
    "    ax.hist(df['bb_diag'].dropna(), bins=50, range=(0,0.01))\n",
    "    ax.set_title('window = {}'.format(window))\n",
    "    ax.set_xlabel('bounding box diagonal length')\n",
    "    ax.set_ylabel('number of points')\n",
    "plt.tight_layout()\n"
   ]
  },
  {
   "cell_type": "markdown",
   "metadata": {},
   "source": [
    "#### Plot points above given bb_diag threshold for a given trajectory"
   ]
  },
  {
   "cell_type": "code",
   "execution_count": 50,
   "metadata": {},
   "outputs": [],
   "source": [
    "bb_thresh = 0.002\n",
    "trj_df = df[df['trID'] == '128_ 26_1']\n",
    "\n",
    "geoplotlib.add_layer(LineLayer(trj_df))\n",
    "bb_small_dict = DataAccessObject.from_dataframe(trj_df[trj_df['bb_diag'] < bb_thresh])\n",
    "\n",
    "def diag_tooltip(p):\n",
    "    return \"diag: {} trid: {}\".format(np.round(p['bb_diag'], 4), p['trID'])\n",
    "geoplotlib.dot(bb_small_dict, color=[255,0,0], f_tooltip=diag_tooltip)\n",
    "geoplotlib.show()"
   ]
  },
  {
   "cell_type": "markdown",
   "metadata": {},
   "source": [
    "#### Plot trajectory after filtering"
   ]
  },
  {
   "cell_type": "code",
   "execution_count": 51,
   "metadata": {
    "collapsed": true
   },
   "outputs": [],
   "source": [
    "bb_thresh = 0.002\n",
    "trj_df = df[df['trID'] == '128_ 26_1']\n",
    "\n",
    "geoplotlib.add_layer(LineLayer(trj_df[trj_df['bb_diag'] >= bb_thresh]))\n",
    "geoplotlib.show()"
   ]
  },
  {
   "cell_type": "code",
   "execution_count": 70,
   "metadata": {},
   "outputs": [
    {
     "data": {
      "text/plain": [
       "<matplotlib.axes._subplots.AxesSubplot at 0xc535d278>"
      ]
     },
     "execution_count": 70,
     "metadata": {},
     "output_type": "execute_result"
    },
    {
     "data": {
      "image/png": "[encoded data removed]",
      "text/plain": [
       "<matplotlib.figure.Figure at 0xc536b7f0>"
      ]
     },
     "metadata": {},
     "output_type": "display_data"
    }
   ],
   "source": [
    "trj_df['bb_diag'].hist(bins=50, range=(0,0.015))"
   ]
  },
  {
   "cell_type": "markdown",
   "metadata": {},
   "source": [
    "### Plot classes using one threshold for the whole dataset"
   ]
  },
  {
   "cell_type": "code",
   "execution_count": 52,
   "metadata": {},
   "outputs": [],
   "source": [
    "bb_thresh = 0.0018\n",
    "\n",
    "# line plot of trajectories\n",
    "groups = df.groupby('trID')\n",
    "for grp_id, grp_df in groups:\n",
    "    grp_df = grp_df.iloc[:-1]\n",
    "    small_bb = grp_df[grp_df['bb_diag'] < bb_thresh]\n",
    "    big_bb = grp_df[grp_df['bb_diag'] >= bb_thresh]\n",
    "    if len(small_bb) > 0:\n",
    "        geoplotlib.graph(small_bb, src_lat='lat', src_lon='lon',\n",
    "                         dest_lat='lat+1', dest_lon='lon+1', color=[255,0,0])\n",
    "    if len(big_bb) > 0:\n",
    "        geoplotlib.graph(big_bb, src_lat='lat', src_lon='lon',\n",
    "                         dest_lat='lat+1', dest_lon='lon+1', color=[0,0,255])\n",
    "geoplotlib.show()"
   ]
  },
  {
   "cell_type": "markdown",
   "metadata": {},
   "source": [
    "## smoothed trajectory using average filter"
   ]
  },
  {
   "cell_type": "code",
   "execution_count": 54,
   "metadata": {},
   "outputs": [
    {
     "name": "stderr",
     "output_type": "stream",
     "text": [
      "c:\\program files\\python27\\lib\\site-packages\\pandas\\core\\frame.py:2754: SettingWithCopyWarning: \n",
      "A value is trying to be set on a copy of a slice from a DataFrame\n",
      "\n",
      "See the caveats in the documentation: http://pandas.pydata.org/pandas-docs/stable/indexing.html#indexing-view-versus-copy\n",
      "  **kwargs)\n"
     ]
    },
    {
     "data": {
      "text/html": [
       "<div>\n",
       "<table border=\"1\" class=\"dataframe\">\n",
       "  <thead>\n",
       "    <tr style=\"text-align: right;\">\n",
       "      <th></th>\n",
       "      <th>trID</th>\n",
       "      <th>lat</th>\n",
       "      <th>lon</th>\n",
       "    </tr>\n",
       "  </thead>\n",
       "  <tbody>\n",
       "    <tr>\n",
       "      <th>2011-11-06 12:45:44</th>\n",
       "      <td>128_ 26_1</td>\n",
       "      <td>54.994718</td>\n",
       "      <td>-1.660492</td>\n",
       "    </tr>\n",
       "    <tr>\n",
       "      <th>2011-11-06 12:45:49</th>\n",
       "      <td>128_ 26_1</td>\n",
       "      <td>54.994423</td>\n",
       "      <td>-1.659993</td>\n",
       "    </tr>\n",
       "    <tr>\n",
       "      <th>2011-11-06 12:45:54</th>\n",
       "      <td>128_ 26_1</td>\n",
       "      <td>54.994130</td>\n",
       "      <td>-1.659505</td>\n",
       "    </tr>\n",
       "    <tr>\n",
       "      <th>2011-11-06 12:45:59</th>\n",
       "      <td>128_ 26_1</td>\n",
       "      <td>54.993869</td>\n",
       "      <td>-1.659077</td>\n",
       "    </tr>\n",
       "    <tr>\n",
       "      <th>2011-11-06 12:46:04</th>\n",
       "      <td>128_ 26_1</td>\n",
       "      <td>54.993641</td>\n",
       "      <td>-1.658694</td>\n",
       "    </tr>\n",
       "  </tbody>\n",
       "</table>\n",
       "</div>"
      ],
      "text/plain": [
       "                          trID        lat       lon\n",
       "2011-11-06 12:45:44  128_ 26_1  54.994718 -1.660492\n",
       "2011-11-06 12:45:49  128_ 26_1  54.994423 -1.659993\n",
       "2011-11-06 12:45:54  128_ 26_1  54.994130 -1.659505\n",
       "2011-11-06 12:45:59  128_ 26_1  54.993869 -1.659077\n",
       "2011-11-06 12:46:04  128_ 26_1  54.993641 -1.658694"
      ]
     },
     "metadata": {},
     "output_type": "display_data"
    }
   ],
   "source": [
    "window = 5\n",
    "\n",
    "groups = df.groupby('trID')\n",
    "frames = []\n",
    "for grp_id, grp_df in groups:\n",
    "    tmp_df = grp_df.copy()\n",
    "    tmp_df['avg_lat'] = tmp_df['lat'].rolling(window=window).mean()\n",
    "    tmp_df['avg_lon'] = tmp_df['lon'].rolling(window=window).mean()\n",
    "    frames.append(tmp_df)\n",
    "df = pd.concat(frames)\n",
    "smooth_df = df[['trID', 'avg_lat', 'avg_lon']]\n",
    "smooth_df.rename(columns={\"avg_lat\": \"lat\", \"avg_lon\": \"lon\"}, inplace=True)\n",
    "ax.set_title('window = {}'.format(window))\n",
    "ax.set_xlabel('bounding box diagonal length')\n",
    "ax.set_ylabel('number of points')\n",
    "\n",
    "smooth_trj_df = smooth_df[smooth_df['trID'] == '128_ 26_1']\n",
    "display(smooth_trj_df.dropna().head())"
   ]
  },
  {
   "cell_type": "markdown",
   "metadata": {},
   "source": [
    "#### plot smoothed and original trajectory"
   ]
  },
  {
   "cell_type": "code",
   "execution_count": 55,
   "metadata": {},
   "outputs": [],
   "source": [
    "geoplotlib.add_layer(LineLayer(df[df['trID'] == '128_ 26_1'], color=[0,0,255]))\n",
    "geoplotlib.add_layer(LineLayer(trj_df.dropna(), color=[255,0,0]))\n",
    "geoplotlib.show()"
   ]
  },
  {
   "cell_type": "markdown",
   "metadata": {},
   "source": [
    "## bounding box diagonal on smoothed data"
   ]
  },
  {
   "cell_type": "code",
   "execution_count": 58,
   "metadata": {},
   "outputs": [
    {
     "name": "stdout",
     "output_type": "stream",
     "text": [
      "window 15\n"
     ]
    },
    {
     "data": {
      "text/plain": [
       "<matplotlib.axes._subplots.AxesSubplot at 0x666d3940>"
      ]
     },
     "execution_count": 58,
     "metadata": {},
     "output_type": "execute_result"
    },
    {
     "data": {
      "image/png": "[encoded data removed]",
      "text/plain": [
       "<matplotlib.figure.Figure at 0x674ca3c8>"
      ]
     },
     "metadata": {},
     "output_type": "display_data"
    }
   ],
   "source": [
    "window = 15\n",
    "\n",
    "groups = smooth_df.groupby('trID')\n",
    "frames = []\n",
    "print 'window', window\n",
    "for grp_id, grp_df in groups:\n",
    "    tmp_df = grp_df.copy()\n",
    "    tmp_df['min_bounding_lat'] = tmp_df['lat'].rolling(window=window).min()\n",
    "    tmp_df['max_bounding_lat'] = tmp_df['lat'].rolling(window=window).max()\n",
    "    tmp_df['min_bounding_lon'] = tmp_df['lon'].rolling(window=window).min()\n",
    "    tmp_df['max_bounding_lon'] = tmp_df['lon'].rolling(window=window).max()\n",
    "    tmp_df['bb_diag'] = ((tmp_df['max_bounding_lon'] - tmp_df['min_bounding_lon'])**2 + (tmp_df['max_bounding_lat'] - tmp_df['min_bounding_lat'])**2)**0.5\n",
    "    frames.append(tmp_df)\n",
    "smooth_df = pd.concat(frames)\n",
    "smooth_df['bb_diag'].hist(bins=100, range=(0,0.01))"
   ]
  },
  {
   "cell_type": "markdown",
   "metadata": {},
   "source": [
    "#### Bounding Box diagonal thresholding on smoothed data"
   ]
  },
  {
   "cell_type": "code",
   "execution_count": 59,
   "metadata": {},
   "outputs": [],
   "source": [
    "bb_thresh = 0.0018\n",
    "\n",
    "smooth_df[['lon+1', 'lat+1']] = smooth_df[['lon', 'lat']].shift(-1)\n",
    "\n",
    "groups = smooth_df.groupby('trID')\n",
    "for grp_id, grp_df in groups:\n",
    "    grp_df = grp_df.iloc[:-1]\n",
    "    small_bb = grp_df[grp_df['bb_diag'] < bb_thresh]\n",
    "    big_bb = grp_df[grp_df['bb_diag'] >= bb_thresh]\n",
    "    if len(small_bb) > 0:\n",
    "        geoplotlib.graph(small_bb, src_lat='lat', src_lon='lon',\n",
    "                         dest_lat='lat+1', dest_lon='lon+1', color=[255,0,0])\n",
    "    if len(big_bb) > 0:\n",
    "        geoplotlib.graph(big_bb, src_lat='lat', src_lon='lon',\n",
    "                         dest_lat='lat+1', dest_lon='lon+1', color=[0,0,255])\n",
    "geoplotlib.show()"
   ]
  },
  {
   "cell_type": "markdown",
   "metadata": {},
   "source": [
    "#### thresholding on a single trajectory"
   ]
  },
  {
   "cell_type": "code",
   "execution_count": 61,
   "metadata": {},
   "outputs": [],
   "source": [
    "bb_thresh = 0.002\n",
    "\n",
    "trj_df = smooth_df[smooth_df['trID'] == '128_ 26_1']\n",
    "geoplotlib.add_layer(LineLayer(trj_df.dropna()))\n",
    "bb_small_dict = DataAccessObject.from_dataframe(trj_df[trj_df['bb_diag'] < bb_thresh])\n",
    "\n",
    "def diag_tooltip(p):\n",
    "    return \"diag: {} trid: {}\".format(np.round(p['bb_diag'], 4), p['trID'])\n",
    "\n",
    "geoplotlib.dot(bb_small_dict, color=[255,0,0], f_tooltip=diag_tooltip)\n",
    "geoplotlib.show()"
   ]
  },
  {
   "cell_type": "code",
   "execution_count": 62,
   "metadata": {},
   "outputs": [
    {
     "name": "stdout",
     "output_type": "stream",
     "text": [
      "window 15\n"
     ]
    },
    {
     "data": {
      "text/plain": [
       "<matplotlib.axes._subplots.AxesSubplot at 0x109656c88>"
      ]
     },
     "execution_count": 62,
     "metadata": {},
     "output_type": "execute_result"
    },
    {
     "data": {
      "image/png": "[encoded data removed]",
      "text/plain": [
       "<matplotlib.figure.Figure at 0xdd33a240>"
      ]
     },
     "metadata": {},
     "output_type": "display_data"
    }
   ],
   "source": [
    "window = 15\n",
    "\n",
    "groups = smooth_df.groupby('trID')\n",
    "frames = []\n",
    "print 'window', window\n",
    "for grp_id, grp_df in groups:\n",
    "    tmp_df = grp_df.copy()\n",
    "    tmp_df['min_bounding_lat'] = tmp_df['lat'].rolling(window=window).min()\n",
    "    tmp_df['max_bounding_lat'] = tmp_df['lat'].rolling(window=window).max()\n",
    "    tmp_df['min_bounding_lon'] = tmp_df['lon'].rolling(window=window).min()\n",
    "    tmp_df['max_bounding_lon'] = tmp_df['lon'].rolling(window=window).max()\n",
    "    tmp_df['bb_diag'] = ((tmp_df['max_bounding_lon'] - tmp_df['min_bounding_lon'])**2 + (tmp_df['max_bounding_lat'] - tmp_df['min_bounding_lat'])**2)**0.5\n",
    "    frames.append(tmp_df)\n",
    "smooth_df = pd.concat(frames)\n",
    "smooth_df['bb_diag'].hist(bins=100, range=(0,0.01))## Series of bounding box centers"
   ]
  },
  {
   "cell_type": "markdown",
   "metadata": {},
   "source": [
    "## Series of bounding box centers"
   ]
  },
  {
   "cell_type": "code",
   "execution_count": 63,
   "metadata": {},
   "outputs": [
    {
     "name": "stdout",
     "output_type": "stream",
     "text": [
      "window 15\n"
     ]
    }
   ],
   "source": [
    "window = 15\n",
    "\n",
    "groups = df.groupby('trID')\n",
    "frames = []\n",
    "print 'window', window\n",
    "for grp_id, grp_df in groups:\n",
    "    tmp_df = grp_df.copy()\n",
    "    tmp_df['min_bounding_lat'] = tmp_df['lat'].rolling(window=window).min()\n",
    "    tmp_df['max_bounding_lat'] = tmp_df['lat'].rolling(window=window).max()\n",
    "    tmp_df['max_bounding_lat'] = tmp_df['lat'].rolling(window=window).max()\n",
    "    tmp_df['min_bounding_lon'] = tmp_df['lon'].rolling(window=window).min()\n",
    "    \n",
    "    tmp_df['bb_center_lat'] = (tmp_df['min_bounding_lat'] + tmp_df['max_bounding_lat']) / 2\n",
    "    tmp_df['bb_center_lon'] = (tmp_df['min_bounding_lon'] + tmp_df['max_bounding_lon']) / 2\n",
    "    \n",
    "    frames.append(tmp_df)\n",
    "tmp_df = pd.concat(frames)\n",
    "bb_center_df = tmp_df[['trID', 'bb_center_lat', 'bb_center_lon']]\n",
    "bb_center_df.rename(columns={\"bb_center_lat\": \"lat\", \"bb_center_lon\": \"lon\"}, inplace=True)"
   ]
  },
  {
   "cell_type": "markdown",
   "metadata": {},
   "source": [
    "### plot original trajectory against trajectory of bounding box centers"
   ]
  },
  {
   "cell_type": "code",
   "execution_count": 64,
   "metadata": {},
   "outputs": [],
   "source": [
    "geoplotlib.add_layer(LineLayer(bb_center_df[bb_center_df['trID'] == '128_ 26_1'].dropna(), color=[255,0,0]))\n",
    "geoplotlib.add_layer(LineLayer(df[df['trID'] == '128_ 26_1'], color=[0,0,255]))\n",
    "geoplotlib.show()"
   ]
  },
  {
   "cell_type": "code",
   "execution_count": 65,
   "metadata": {},
   "outputs": [
    {
     "data": {
      "text/plain": [
       "Index([u'trID', u'trN', u'pIdx', u'lon', u'lat', u'time', u'lon+1', u'lat+1',\n",
       "       u'v_lon', u'v_lat', u'norm_v_lon', u'norm_v_lat', u'norm_v_lon-1',\n",
       "       u'norm_v_lat-1', u'alpha', u'cum_alpha', u'time+1', u'duration',\n",
       "       u'distance', u'velocity', u'min_bounding_lat', u'max_bounding_lat',\n",
       "       u'min_bounding_lon', u'max_bounding_lon', u'bb_diag', u'avg_lat',\n",
       "       u'avg_lon'],\n",
       "      dtype='object')"
      ]
     },
     "execution_count": 65,
     "metadata": {},
     "output_type": "execute_result"
    }
   ],
   "source": [
    "df.columns"
   ]
  },
  {
   "cell_type": "code",
   "execution_count": 69,
   "metadata": {
    "collapsed": true
   },
   "outputs": [],
   "source": [
    "# draw_id = '200_  4_1'\n",
    "# draw_id = '128_ 26_1'\n",
    "draw_id = '208_  3_1'\n",
    "# draw_id = '160_  7_1'"
   ]
  },
  {
   "cell_type": "markdown",
   "metadata": {},
   "source": [
    "#### velocity plot for a single trajectory"
   ]
  },
  {
   "cell_type": "code",
   "execution_count": 230,
   "metadata": {},
   "outputs": [
    {
     "data": {
      "image/png": "[encoded data removed]",
      "text/plain": [
       "<matplotlib.figure.Figure at 0x145ccc048>"
      ]
     },
     "metadata": {},
     "output_type": "display_data"
    }
   ],
   "source": [
    "df[df['trID'] == draw_id].plot(x='time', y='velocity', figsize=(16,8))\n",
    "plt.grid()"
   ]
  },
  {
   "cell_type": "markdown",
   "metadata": {},
   "source": [
    "#### draw line segments in a given time window"
   ]
  },
  {
   "cell_type": "code",
   "execution_count": null,
   "metadata": {},
   "outputs": [],
   "source": [
    "geoplotlib.add_layer(LineLayer(df[df['trID'] == draw_id].between_time('21:27', '22:27'), color=[0,0,255]))\n",
    "\n",
    "# geoplotlib.add_layer(LineLayer(df[df['trID'] == draw_id].between_time('21:07', '21:27'), color=[0,0,255]))\n",
    "geoplotlib.show()"
   ]
  },
  {
   "cell_type": "code",
   "execution_count": 70,
   "metadata": {},
   "outputs": [],
   "source": [
    "v_threshold = 5\n",
    "\n",
    "draw_df = df[df['trID'] == draw_id]\n",
    "slow_df = draw_df[draw_df['velocity'] < v_threshold]\n",
    "fast_df = draw_df[draw_df['velocity'] >= v_threshold]\n",
    "if len(slow_df) > 0:\n",
    "    geoplotlib.graph(slow_df, src_lat='lat', src_lon='lon',\n",
    "                     dest_lat='lat+1', dest_lon='lon+1', color=[0,0,255])\n",
    "if len(fast_df) > 0:\n",
    "    geoplotlib.graph(fast_df, src_lat='lat', src_lon='lon',\n",
    "                     dest_lat='lat+1', dest_lon='lon+1', color=[255,0,0])\n",
    "\n",
    "geoplotlib.show()"
   ]
  },
  {
   "cell_type": "code",
   "execution_count": 239,
   "metadata": {},
   "outputs": [],
   "source": [
    "draw_df = df[df['trID'] == draw_id]\n",
    "\n",
    "if len(draw_df) > 0:\n",
    "    geoplotlib.add_layer(LineLayer(draw_df, color=[0,0,255]))\n",
    "    geoplotlib.show()\n",
    "else:\n",
    "    print 'no data'"
   ]
  },
  {
   "cell_type": "markdown",
   "metadata": {},
   "source": [
    "### Find ids, id parts given"
   ]
  },
  {
   "cell_type": "code",
   "execution_count": 219,
   "metadata": {},
   "outputs": [
    {
     "name": "stdout",
     "output_type": "stream",
     "text": [
      "2011-10-28 19:48:37    160_  7_1\n",
      "2011-10-28 19:48:42    160_  7_1\n",
      "2011-10-28 19:48:47    160_  7_1\n",
      "2011-10-28 19:48:52    160_  7_1\n",
      "2011-10-28 19:48:57    160_  7_1\n",
      "2011-10-28 19:49:02    160_  7_1\n",
      "2011-10-28 19:49:07    160_  7_1\n",
      "2011-10-28 19:49:12    160_  7_1\n",
      "2011-10-28 19:49:17    160_  7_1\n",
      "2011-10-28 20:05:12    160_  7_1\n",
      "2011-10-28 20:05:17    160_  7_1\n",
      "2011-10-28 20:05:22    160_  7_1\n",
      "2011-10-28 20:05:52    160_  7_1\n",
      "2011-10-28 20:05:57    160_  7_1\n",
      "2011-10-28 20:06:02    160_  7_1\n",
      "2011-10-28 20:06:07    160_  7_1\n",
      "2011-10-28 20:06:12    160_  7_1\n",
      "2011-10-28 20:06:27    160_  7_1\n",
      "2011-10-28 20:06:32    160_  7_1\n",
      "2011-10-28 20:06:37    160_  7_1\n",
      "2011-10-28 20:06:42    160_  7_1\n",
      "2011-10-28 20:06:47    160_  7_1\n",
      "2011-10-28 20:06:52    160_  7_1\n",
      "2011-10-28 20:06:57    160_  7_1\n",
      "2011-10-28 20:07:02    160_  7_1\n",
      "2011-10-28 20:07:07    160_  7_1\n",
      "2011-10-28 20:07:12    160_  7_1\n",
      "2011-10-28 20:07:17    160_  7_1\n",
      "2011-10-28 20:07:22    160_  7_1\n",
      "2011-10-28 20:07:27    160_  7_1\n",
      "                         ...    \n",
      "2011-10-28 22:33:40    160_  7_1\n",
      "2011-10-28 22:33:45    160_  7_1\n",
      "2011-10-28 22:33:50    160_  7_1\n",
      "2011-10-28 22:33:55    160_  7_1\n",
      "2011-10-28 22:34:00    160_  7_1\n",
      "2011-10-28 22:34:05    160_  7_1\n",
      "2011-10-28 22:34:10    160_  7_1\n",
      "2011-10-28 22:34:15    160_  7_1\n",
      "2011-10-28 22:34:20    160_  7_1\n",
      "2011-10-28 22:34:25    160_  7_1\n",
      "2011-10-28 22:34:30    160_  7_1\n",
      "2011-10-28 22:34:35    160_  7_1\n",
      "2011-10-28 22:34:40    160_  7_1\n",
      "2011-10-28 22:34:45    160_  7_1\n",
      "2011-10-28 22:34:50    160_  7_1\n",
      "2011-10-28 22:34:55    160_  7_1\n",
      "2011-10-28 22:35:00    160_  7_1\n",
      "2011-10-28 22:35:05    160_  7_1\n",
      "2011-10-28 22:35:10    160_  7_1\n",
      "2011-10-28 22:35:15    160_  7_1\n",
      "2011-10-28 22:35:20    160_  7_1\n",
      "2011-10-28 22:35:25    160_  7_1\n",
      "2011-10-28 22:35:30    160_  7_1\n",
      "2011-10-28 22:35:35    160_  7_1\n",
      "2011-10-28 22:35:40    160_  7_1\n",
      "2011-10-28 22:35:45    160_  7_1\n",
      "2011-10-28 22:35:50    160_  7_1\n",
      "2011-10-28 22:35:55    160_  7_1\n",
      "2011-10-28 22:36:00    160_  7_1\n",
      "2011-10-28 22:36:05    160_  7_1\n",
      "Name: trID, dtype: object\n"
     ]
    }
   ],
   "source": [
    "tmp_df = df[df['trID'].str.contains('160_ ') & df['trID'].str.contains(' 7_1')]\n",
    "print tmp_df['trID']"
   ]
  }
 ],
 "metadata": {
  "kernelspec": {
   "display_name": "datacron1",
   "language": "python",
   "name": "python3"
  },
  "language_info": {
   "codemirror_mode": {
    "name": "ipython",
    "version": 3
   },
   "file_extension": ".py",
   "mimetype": "text/x-python",
   "name": "python",
   "nbconvert_exporter": "python",
   "pygments_lexer": "ipython3",
   "version": "3.6.1"
  }
 },
 "nbformat": 4,
 "nbformat_minor": 1
}
