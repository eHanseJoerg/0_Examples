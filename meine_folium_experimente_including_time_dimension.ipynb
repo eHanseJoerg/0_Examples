{
 "cells": [
  {
   "cell_type": "code",
   "execution_count": 1,
   "metadata": {
    "collapsed": true
   },
   "outputs": [],
   "source": [
    "import folium\n",
    "from IPython.display import HTML\n"
   ]
  },
  {
   "cell_type": "code",
   "execution_count": 2,
   "metadata": {
    "collapsed": true
   },
   "outputs": [],
   "source": [
    "map = folium.Map(location=[48, 8])\n",
    "folium.Marker([48.2,8], popup=\"hier ist was\").add_to(map)\n",
    "map.save(outfile='einekarte.html')"
   ]
  },
  {
   "cell_type": "code",
   "execution_count": 3,
   "metadata": {},
   "outputs": [
    {
     "data": {
      "text/html": [
       "<iframe width=\"100%\" height =\"350\" src=\"einekarte.html\"></iframe>"
      ],
      "text/plain": [
       "<IPython.core.display.HTML object>"
      ]
     },
     "metadata": {},
     "output_type": "display_data"
    }
   ],
   "source": [
    "%%HTML\n",
    "<iframe width=\"100%\" height =\"350\" src=\"einekarte.html\"></iframe>"
   ]
  },
  {
   "cell_type": "code",
   "execution_count": 6,
   "metadata": {
    "collapsed": true
   },
   "outputs": [],
   "source": [
    "map_1 = folium.Map(location=[45.372, -121.6972], zoom_start=12,\n",
    "                   tiles='Stamen Terrain')\n",
    "folium.Marker([45.3288, -121.6625], popup='Mt. Hood Meadows').add_to(map_1)\n",
    "folium.Marker([45.3311, -121.7113], popup='Timberline Lodge').add_to(map_1)\n",
    "map_1.save('mthood.html')"
   ]
  },
  {
   "cell_type": "code",
   "execution_count": 7,
   "metadata": {},
   "outputs": [
    {
     "data": {
      "text/html": [
       "<iframe width=\"100%\" height =\"350\" src=\"http://83.212.239.107:8890/sparql\"></iframe>"
      ],
      "text/plain": [
       "<IPython.core.display.HTML object>"
      ]
     },
     "metadata": {},
     "output_type": "display_data"
    }
   ],
   "source": [
    "%%HTML\n",
    "<iframe width=\"100%\" height =\"350\" src=\"http://83.212.239.107:8890/sparql\"></iframe>"
   ]
  },
  {
   "cell_type": "code",
   "execution_count": 8,
   "metadata": {
    "collapsed": true
   },
   "outputs": [],
   "source": [
    "map_2 = folium.Map(location=[45.5236, -122.6750], tiles='Stamen Toner',\n",
    "                   zoom_start=13)\n",
    "folium.Marker(location=[45.5244, -122.6699], popup='The Waterfront').add_to(map_2)\n",
    "folium.CircleMarker(location=[45.5215, -122.6261], radius=50,\n",
    "                    popup='Laurelhurst Park', color='#3186cc',\n",
    "                    fill_color='#3186cc').add_to(map_2)\n",
    "map_2.save('portland.html')"
   ]
  },
  {
   "cell_type": "code",
   "execution_count": 9,
   "metadata": {},
   "outputs": [
    {
     "data": {
      "text/html": [
       "<iframe width=\"100%\" height =\"350\" src=\"portland.html\"></iframe>"
      ],
      "text/plain": [
       "<IPython.core.display.HTML object>"
      ]
     },
     "metadata": {},
     "output_type": "display_data"
    }
   ],
   "source": [
    "%%HTML\n",
    "<iframe width=\"100%\" height =\"350\" src=\"portland.html\"></iframe>"
   ]
  },
  {
   "cell_type": "code",
   "execution_count": 10,
   "metadata": {
    "collapsed": true
   },
   "outputs": [],
   "source": [
    "map_4 = folium.Map(location=[46.8527, -121.7649], tiles='Stamen Terrain',\n",
    "                   zoom_start=13)\n",
    "folium.Marker(location=[46.8354, -121.7325], popup='Camp Muir').add_to(map_4)\n",
    "folium.ClickForMarker(popup='Waypoint').add_to(map_4)\n",
    "map_4.save('mtrainier.html')"
   ]
  },
  {
   "cell_type": "code",
   "execution_count": 11,
   "metadata": {},
   "outputs": [
    {
     "data": {
      "text/html": [
       "<iframe width=\"100%\" height =\"350\" src=\"mtrainier.html\"></iframe>"
      ],
      "text/plain": [
       "<IPython.core.display.HTML object>"
      ]
     },
     "metadata": {},
     "output_type": "display_data"
    }
   ],
   "source": [
    "%%HTML\n",
    "<iframe width=\"100%\" height =\"350\" src=\"mtrainier.html\"></iframe>"
   ]
  },
  {
   "cell_type": "code",
   "execution_count": 19,
   "metadata": {
    "collapsed": true
   },
   "outputs": [],
   "source": [
    "map_5 = folium.Map(location=[45.5236, -122.6750], zoom_start=13)\n",
    "folium.RegularPolygonMarker(location=[45.5012, -122.6655], popup='Ross Island Bridge',\n",
    "                   fill_color='#132b5e', number_of_sides=3, radius=10).add_to(map_5)\n",
    "folium.RegularPolygonMarker(location=[45.5132, -122.6708], popup='Hawthorne Bridge',\n",
    "                   fill_color='#45647d', number_of_sides=4, radius=10).add_to(map_5)\n",
    "folium.RegularPolygonMarker(location=[45.5275, -122.6692], popup='Steel Bridge',\n",
    "                   fill_color='#769d96', number_of_sides=6, radius=10).add_to(map_5)\n",
    "folium.RegularPolygonMarker(location=[45.5318, -122.6745], popup='Broadway Bridge',\n",
    "                   fill_color='#769d96', number_of_sides=8, radius=10).add_to(map_5)\n",
    "map_5.save('bridges.html')"
   ]
  },
  {
   "cell_type": "code",
   "execution_count": 20,
   "metadata": {},
   "outputs": [
    {
     "data": {
      "text/html": [
       "<iframe width=\"100%\" height =\"350\" src=\"bridges.html\"></iframe>"
      ],
      "text/plain": [
       "<IPython.core.display.HTML object>"
      ]
     },
     "metadata": {},
     "output_type": "display_data"
    }
   ],
   "source": [
    "%%HTML\n",
    "<iframe width=\"100%\" height =\"350\" src=\"bridges.html\"></iframe>"
   ]
  },
  {
   "cell_type": "code",
   "execution_count": 24,
   "metadata": {},
   "outputs": [
    {
     "ename": "JSONDecodeError",
     "evalue": "Expecting value: line 1 column 1 (char 0)",
     "output_type": "error",
     "traceback": [
      "\u001b[0;31m---------------------------------------------------------------------------\u001b[0m",
      "\u001b[0;31mJSONDecodeError\u001b[0m                           Traceback (most recent call last)",
      "\u001b[0;32m<ipython-input-24-26248f9c3a4b>\u001b[0m in \u001b[0;36m<module>\u001b[0;34m()\u001b[0m\n\u001b[1;32m      2\u001b[0m                       tiles='Stamen Terrain')\n\u001b[1;32m      3\u001b[0m popup1 = folium.Popup(max_width=800,\n\u001b[0;32m----> 4\u001b[0;31m                      ).add_child(folium.Vega('vis2.json', width=500, height=250))\n\u001b[0m\u001b[1;32m      5\u001b[0m \u001b[0mbuoy_map\u001b[0m\u001b[0;34m.\u001b[0m\u001b[0msave\u001b[0m\u001b[0;34m(\u001b[0m\u001b[0mpath\u001b[0m\u001b[0;34m=\u001b[0m\u001b[0;34m'NOAA_buoys.html'\u001b[0m\u001b[0;34m)\u001b[0m\u001b[0;34m\u001b[0m\u001b[0m\n",
      "\u001b[0;32m/home/joerg/anaconda3/envs/tflearn/lib/python3.5/site-packages/folium/features.py\u001b[0m in \u001b[0;36m__init__\u001b[0;34m(self, data, width, height, left, top, position)\u001b[0m\n\u001b[1;32m    198\u001b[0m         \u001b[0;31m# FIXME:\u001b[0m\u001b[0;34m\u001b[0m\u001b[0;34m\u001b[0m\u001b[0m\n\u001b[1;32m    199\u001b[0m         \u001b[0;32mif\u001b[0m \u001b[0misinstance\u001b[0m\u001b[0;34m(\u001b[0m\u001b[0mself\u001b[0m\u001b[0;34m.\u001b[0m\u001b[0mdata\u001b[0m\u001b[0;34m,\u001b[0m \u001b[0mtext_type\u001b[0m\u001b[0;34m)\u001b[0m \u001b[0;32mor\u001b[0m \u001b[0misinstance\u001b[0m\u001b[0;34m(\u001b[0m\u001b[0mdata\u001b[0m\u001b[0;34m,\u001b[0m \u001b[0mbinary_type\u001b[0m\u001b[0;34m)\u001b[0m\u001b[0;34m:\u001b[0m\u001b[0;34m\u001b[0m\u001b[0m\n\u001b[0;32m--> 200\u001b[0;31m             \u001b[0mself\u001b[0m\u001b[0;34m.\u001b[0m\u001b[0mdata\u001b[0m \u001b[0;34m=\u001b[0m \u001b[0mjson\u001b[0m\u001b[0;34m.\u001b[0m\u001b[0mloads\u001b[0m\u001b[0;34m(\u001b[0m\u001b[0mself\u001b[0m\u001b[0;34m.\u001b[0m\u001b[0mdata\u001b[0m\u001b[0;34m)\u001b[0m\u001b[0;34m\u001b[0m\u001b[0m\n\u001b[0m\u001b[1;32m    201\u001b[0m \u001b[0;34m\u001b[0m\u001b[0m\n\u001b[1;32m    202\u001b[0m         \u001b[0;31m# Size Parameters.\u001b[0m\u001b[0;34m\u001b[0m\u001b[0;34m\u001b[0m\u001b[0m\n",
      "\u001b[0;32m/home/joerg/anaconda3/envs/tflearn/lib/python3.5/json/__init__.py\u001b[0m in \u001b[0;36mloads\u001b[0;34m(s, encoding, cls, object_hook, parse_float, parse_int, parse_constant, object_pairs_hook, **kw)\u001b[0m\n\u001b[1;32m    317\u001b[0m             \u001b[0mparse_int\u001b[0m \u001b[0;32mis\u001b[0m \u001b[0;32mNone\u001b[0m \u001b[0;32mand\u001b[0m \u001b[0mparse_float\u001b[0m \u001b[0;32mis\u001b[0m \u001b[0;32mNone\u001b[0m \u001b[0;32mand\u001b[0m\u001b[0;34m\u001b[0m\u001b[0m\n\u001b[1;32m    318\u001b[0m             parse_constant is None and object_pairs_hook is None and not kw):\n\u001b[0;32m--> 319\u001b[0;31m         \u001b[0;32mreturn\u001b[0m \u001b[0m_default_decoder\u001b[0m\u001b[0;34m.\u001b[0m\u001b[0mdecode\u001b[0m\u001b[0;34m(\u001b[0m\u001b[0ms\u001b[0m\u001b[0;34m)\u001b[0m\u001b[0;34m\u001b[0m\u001b[0m\n\u001b[0m\u001b[1;32m    320\u001b[0m     \u001b[0;32mif\u001b[0m \u001b[0mcls\u001b[0m \u001b[0;32mis\u001b[0m \u001b[0;32mNone\u001b[0m\u001b[0;34m:\u001b[0m\u001b[0;34m\u001b[0m\u001b[0m\n\u001b[1;32m    321\u001b[0m         \u001b[0mcls\u001b[0m \u001b[0;34m=\u001b[0m \u001b[0mJSONDecoder\u001b[0m\u001b[0;34m\u001b[0m\u001b[0m\n",
      "\u001b[0;32m/home/joerg/anaconda3/envs/tflearn/lib/python3.5/json/decoder.py\u001b[0m in \u001b[0;36mdecode\u001b[0;34m(self, s, _w)\u001b[0m\n\u001b[1;32m    337\u001b[0m \u001b[0;34m\u001b[0m\u001b[0m\n\u001b[1;32m    338\u001b[0m         \"\"\"\n\u001b[0;32m--> 339\u001b[0;31m         \u001b[0mobj\u001b[0m\u001b[0;34m,\u001b[0m \u001b[0mend\u001b[0m \u001b[0;34m=\u001b[0m \u001b[0mself\u001b[0m\u001b[0;34m.\u001b[0m\u001b[0mraw_decode\u001b[0m\u001b[0;34m(\u001b[0m\u001b[0ms\u001b[0m\u001b[0;34m,\u001b[0m \u001b[0midx\u001b[0m\u001b[0;34m=\u001b[0m\u001b[0m_w\u001b[0m\u001b[0;34m(\u001b[0m\u001b[0ms\u001b[0m\u001b[0;34m,\u001b[0m \u001b[0;36m0\u001b[0m\u001b[0;34m)\u001b[0m\u001b[0;34m.\u001b[0m\u001b[0mend\u001b[0m\u001b[0;34m(\u001b[0m\u001b[0;34m)\u001b[0m\u001b[0;34m)\u001b[0m\u001b[0;34m\u001b[0m\u001b[0m\n\u001b[0m\u001b[1;32m    340\u001b[0m         \u001b[0mend\u001b[0m \u001b[0;34m=\u001b[0m \u001b[0m_w\u001b[0m\u001b[0;34m(\u001b[0m\u001b[0ms\u001b[0m\u001b[0;34m,\u001b[0m \u001b[0mend\u001b[0m\u001b[0;34m)\u001b[0m\u001b[0;34m.\u001b[0m\u001b[0mend\u001b[0m\u001b[0;34m(\u001b[0m\u001b[0;34m)\u001b[0m\u001b[0;34m\u001b[0m\u001b[0m\n\u001b[1;32m    341\u001b[0m         \u001b[0;32mif\u001b[0m \u001b[0mend\u001b[0m \u001b[0;34m!=\u001b[0m \u001b[0mlen\u001b[0m\u001b[0;34m(\u001b[0m\u001b[0ms\u001b[0m\u001b[0;34m)\u001b[0m\u001b[0;34m:\u001b[0m\u001b[0;34m\u001b[0m\u001b[0m\n",
      "\u001b[0;32m/home/joerg/anaconda3/envs/tflearn/lib/python3.5/json/decoder.py\u001b[0m in \u001b[0;36mraw_decode\u001b[0;34m(self, s, idx)\u001b[0m\n\u001b[1;32m    355\u001b[0m             \u001b[0mobj\u001b[0m\u001b[0;34m,\u001b[0m \u001b[0mend\u001b[0m \u001b[0;34m=\u001b[0m \u001b[0mself\u001b[0m\u001b[0;34m.\u001b[0m\u001b[0mscan_once\u001b[0m\u001b[0;34m(\u001b[0m\u001b[0ms\u001b[0m\u001b[0;34m,\u001b[0m \u001b[0midx\u001b[0m\u001b[0;34m)\u001b[0m\u001b[0;34m\u001b[0m\u001b[0m\n\u001b[1;32m    356\u001b[0m         \u001b[0;32mexcept\u001b[0m \u001b[0mStopIteration\u001b[0m \u001b[0;32mas\u001b[0m \u001b[0merr\u001b[0m\u001b[0;34m:\u001b[0m\u001b[0;34m\u001b[0m\u001b[0m\n\u001b[0;32m--> 357\u001b[0;31m             \u001b[0;32mraise\u001b[0m \u001b[0mJSONDecodeError\u001b[0m\u001b[0;34m(\u001b[0m\u001b[0;34m\"Expecting value\"\u001b[0m\u001b[0;34m,\u001b[0m \u001b[0ms\u001b[0m\u001b[0;34m,\u001b[0m \u001b[0merr\u001b[0m\u001b[0;34m.\u001b[0m\u001b[0mvalue\u001b[0m\u001b[0;34m)\u001b[0m \u001b[0;32mfrom\u001b[0m \u001b[0;32mNone\u001b[0m\u001b[0;34m\u001b[0m\u001b[0m\n\u001b[0m\u001b[1;32m    358\u001b[0m         \u001b[0;32mreturn\u001b[0m \u001b[0mobj\u001b[0m\u001b[0;34m,\u001b[0m \u001b[0mend\u001b[0m\u001b[0;34m\u001b[0m\u001b[0m\n",
      "\u001b[0;31mJSONDecodeError\u001b[0m: Expecting value: line 1 column 1 (char 0)"
     ]
    }
   ],
   "source": [
    "buoy_map = folium.Map(location=[46.3014, -123.7390], zoom_start=7,\n",
    "                      tiles='Stamen Terrain')\n",
    "popup1 = folium.Popup(max_width=800,\n",
    "                     ).add_child(folium.Vega('vis2.json', width=500, height=250))\n",
    "buoy_map.save(path='NOAA_buoys.html')"
   ]
  },
  {
   "cell_type": "code",
   "execution_count": 37,
   "metadata": {
    "collapsed": true
   },
   "outputs": [],
   "source": [
    "import os\n",
    "from folium.features import Template\n",
    "\n",
    "\n",
    "class Map3d(folium.Map):\n",
    "\n",
    "    def __init__(self, location=None, width='100%', height='100%', left='0%',\n",
    "                 top='0%', position='relative', tiles='OpenStreetMap', API_key=None,\n",
    "                 max_zoom=18, min_zoom=1, zoom_start=10, attr=None, min_lat=-90,\n",
    "                 max_lat=90, min_lon=-180, max_lon=180, detect_retina=False, crs='EPSG3857'):\n",
    "        super(Map3d, self).__init__(\n",
    "            location=location, width=width, height=height,\n",
    "            left=left, top=top, position=position, tiles=tiles,\n",
    "            API_key=API_key, max_zoom=max_zoom, min_zoom=min_zoom,\n",
    "            zoom_start=zoom_start, attr=attr, min_lat=min_lat,\n",
    "            max_lat=max_lat, min_lon=min_lon, max_lon=max_lon,\n",
    "            detect_retina=detect_retina, crs=crs\n",
    "        )\n",
    "        self._template = Template(u\"\"\"\n",
    "        {% macro header(this, kwargs) %}\n",
    "            <script src=\"https://www.webglearth.com/v2/api.js\"></script>\n",
    "            <style> #{{this.get_name()}} {\n",
    "                position : {{this.position}};\n",
    "                width : {{this.width[0]}}{{this.width[1]}};\n",
    "                height: {{this.height[0]}}{{this.height[1]}};\n",
    "                left: {{this.left[0]}}{{this.left[1]}};\n",
    "                top: {{this.top[0]}}{{this.top[1]}};\n",
    "                }\n",
    "            </style>\n",
    "        {% endmacro %}\n",
    "        {% macro html(this, kwargs) %}\n",
    "            <div class=\"folium-map\" id=\"{{this.get_name()}}\" ></div>\n",
    "        {% endmacro %}\n",
    "\n",
    "        {% macro script(this, kwargs) %}\n",
    "\n",
    "            var southWest = L.latLng({{ this.min_lat }}, {{ this.min_lon }});\n",
    "            var northEast = L.latLng({{ this.max_lat }}, {{ this.max_lon }});\n",
    "            var bounds = L.latLngBounds(southWest, northEast);\n",
    "\n",
    "            var {{this.get_name()}} = WE.map('{{this.get_name()}}', {\n",
    "                                           center:[{{this.location[0]}},{{this.location[1]}}],\n",
    "                                           zoom: {{this.zoom_start}},\n",
    "                                           maxBounds: bounds,\n",
    "                                           layers: [],\n",
    "                                           crs: L.CRS.{{this.crs}}\n",
    "                                         });\n",
    "        {% endmacro %}\n",
    "        \"\"\")"
   ]
  },
  {
   "cell_type": "code",
   "execution_count": 38,
   "metadata": {
    "collapsed": true
   },
   "outputs": [],
   "source": [
    "class TileLayer3d(folium.TileLayer):\n",
    "\n",
    "    def __init__(self, tiles='OpenStreetMap', min_zoom=1, max_zoom=18, attr=None,\n",
    "                 API_key=None, detect_retina=False, name=None, overlay=False, control=True):\n",
    "        super(TileLayer3d, self).__init__(\n",
    "            tiles=tiles, min_zoom=min_zoom, max_zoom=max_zoom,\n",
    "            attr=attr, API_key=API_key, detect_retina=detect_retina,\n",
    "            name=name, overlay=overlay, control=control\n",
    "        )\n",
    "        self._template = Template(u\"\"\"\n",
    "        {% macro script(this, kwargs) %}\n",
    "            var {{this.get_name()}} = WE.tileLayer(\n",
    "                '{{this.tiles}}',\n",
    "                {\n",
    "                    maxZoom: {{this.max_zoom}},\n",
    "                    minZoom: {{this.min_zoom}},\n",
    "                    attribution: '{{this.attr}}',\n",
    "                    detectRetina: {{this.detect_retina.__str__().lower()}}\n",
    "                    }\n",
    "                ).addTo({{this._parent.get_name()}});\n",
    "\n",
    "        {% endmacro %}\n",
    "        \"\"\")\n"
   ]
  },
  {
   "cell_type": "code",
   "execution_count": 39,
   "metadata": {},
   "outputs": [
    {
     "data": {
      "text/html": [
       "<div style=\"width:100%;\"><div style=\"position:relative;width:100%;height:0;padding-bottom:60%;\"><iframe src=\"data:text/html;base64,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\" style=\"position:absolute;width:100%;height:100%;left:0;top:0;\"></iframe></div></div>"
      ],
      "text/plain": [
       "<__main__.Map3d at 0x7f1018dce048>"
      ]
     },
     "execution_count": 39,
     "metadata": {},
     "output_type": "execute_result"
    }
   ],
   "source": [
    "m = Map3d(location=[-42, -42], tiles=None, zoom_start=2)\n",
    "m.add_child(TileLayer3d(tiles='OpenStreetMap'))\n",
    "\n",
    "url = ('http://services.arcgisonline.com/arcgis/rest/services'\n",
    "       'Ocean/World_Ocean_Base'\n",
    "       'MapServer/tile/{z}/{y}/{x}')\n",
    "\n",
    "folium.TileLayer(\n",
    "    tiles=url,\n",
    "    name='World_Ocean_Base',\n",
    "    attr='ESRI',\n",
    "    overlay=True\n",
    ").add_to(m)\n",
    "\n",
    "\n",
    "m.save(os.path.join('results', 'Hacking_folium_3D_globe.html'))\n",
    "\n",
    "m\n"
   ]
  },
  {
   "cell_type": "code",
   "execution_count": 40,
   "metadata": {},
   "outputs": [
    {
     "name": "stdout",
     "output_type": "stream",
     "text": [
      "0.2.1\n"
     ]
    }
   ],
   "source": [
    "import os\n",
    "import folium\n",
    "\n",
    "print(folium.__version__)"
   ]
  },
  {
   "cell_type": "code",
   "execution_count": 47,
   "metadata": {},
   "outputs": [
    {
     "data": {
      "text/html": [
       "<div style=\"width:100%;\"><div style=\"position:relative;width:100%;height:0;padding-bottom:60%;\"><iframe src=\"data:text/html;base64,CiAgICAgICAgPCFET0NUWVBFIGh0bWw+CiAgICAgICAgPGhlYWQ+CiAgICAgICAgICAgIAogICAgICAgIAogICAgICAgICAgICA8bWV0YSBodHRwLWVxdWl2PSJjb250ZW50LXR5cGUiIGNvbnRlbnQ9InRleHQvaHRtbDsgY2hhcnNldD1VVEYtOCIgLz4KICAgICAgICAKICAgICAgICAgICAgCiAgICAgICAgCiAgICAgICAgICAgIDxzY3JpcHQgc3JjPSJodHRwczovL2NkbmpzLmNsb3VkZmxhcmUuY29tL2FqYXgvbGlicy9sZWFmbGV0LzAuNy4zL2xlYWZsZXQuanMiPjwvc2NyaXB0PgogICAgICAgIAogICAgICAgIAogICAgICAgIAogICAgICAgICAgICAKICAgICAgICAKICAgICAgICAgICAgPHNjcmlwdCBzcmM9Imh0dHBzOi8vYWpheC5nb29nbGVhcGlzLmNvbS9hamF4L2xpYnMvanF1ZXJ5LzEuMTEuMS9qcXVlcnkubWluLmpzIj48L3NjcmlwdD4KICAgICAgICAKICAgICAgICAKICAgICAgICAKICAgICAgICAgICAgCiAgICAgICAgCiAgICAgICAgICAgIDxzY3JpcHQgc3JjPSJodHRwczovL21heGNkbi5ib290c3RyYXBjZG4uY29tL2Jvb3RzdHJhcC8zLjIuMC9qcy9ib290c3RyYXAubWluLmpzIj48L3NjcmlwdD4KICAgICAgICAKICAgICAgICAKICAgICAgICAKICAgICAgICAgICAgCiAgICAgICAgCiAgICAgICAgICAgIDxzY3JpcHQgc3JjPSJodHRwczovL2NkbmpzLmNsb3VkZmxhcmUuY29tL2FqYXgvbGlicy9MZWFmbGV0LmF3ZXNvbWUtbWFya2Vycy8yLjAuMi9sZWFmbGV0LmF3ZXNvbWUtbWFya2Vycy5taW4uanMiPjwvc2NyaXB0PgogICAgICAgIAogICAgICAgIAogICAgICAgIAogICAgICAgICAgICAKICAgICAgICAKICAgICAgICAgICAgPHNjcmlwdCBzcmM9Imh0dHBzOi8vY2RuanMuY2xvdWRmbGFyZS5jb20vYWpheC9saWJzL2xlYWZsZXQubWFya2VyY2x1c3Rlci8wLjQuMC9sZWFmbGV0Lm1hcmtlcmNsdXN0ZXItc3JjLmpzIj48L3NjcmlwdD4KICAgICAgICAKICAgICAgICAKICAgICAgICAKICAgICAgICAgICAgCiAgICAgICAgCiAgICAgICAgICAgIDxzY3JpcHQgc3JjPSJodHRwczovL2NkbmpzLmNsb3VkZmxhcmUuY29tL2FqYXgvbGlicy9sZWFmbGV0Lm1hcmtlcmNsdXN0ZXIvMC40LjAvbGVhZmxldC5tYXJrZXJjbHVzdGVyLmpzIj48L3NjcmlwdD4KICAgICAgICAKICAgICAgICAKICAgICAgICAKICAgICAgICAgICAgCiAgICAgICAgCiAgICAgICAgICAgIDxsaW5rIHJlbD0ic3R5bGVzaGVldCIgaHJlZj0iaHR0cHM6Ly9jZG5qcy5jbG91ZGZsYXJlLmNvbS9hamF4L2xpYnMvbGVhZmxldC8wLjcuMy9sZWFmbGV0LmNzcyIgLz4KICAgICAgICAKICAgICAgICAKICAgICAgICAKICAgICAgICAgICAgCiAgICAgICAgCiAgICAgICAgICAgIDxsaW5rIHJlbD0ic3R5bGVzaGVldCIgaHJlZj0iaHR0cHM6Ly9tYXhjZG4uYm9vdHN0cmFwY2RuLmNvbS9ib290c3RyYXAvMy4yLjAvY3NzL2Jvb3RzdHJhcC5taW4uY3NzIiAvPgogICAgICAgIAogICAgICAgIAogICAgICAgIAogICAgICAgICAgICAKICAgICAgICAKICAgICAgICAgICAgPGxpbmsgcmVsPSJzdHlsZXNoZWV0IiBocmVmPSJodHRwczovL21heGNkbi5ib290c3RyYXBjZG4uY29tL2Jvb3RzdHJhcC8zLjIuMC9jc3MvYm9vdHN0cmFwLXRoZW1lLm1pbi5jc3MiIC8+CiAgICAgICAgCiAgICAgICAgCiAgICAgICAgCiAgICAgICAgICAgIAogICAgICAgIAogICAgICAgICAgICA8bGluayByZWw9InN0eWxlc2hlZXQiIGhyZWY9Imh0dHBzOi8vbWF4Y2RuLmJvb3RzdHJhcGNkbi5jb20vZm9udC1hd2Vzb21lLzQuMS4wL2Nzcy9mb250LWF3ZXNvbWUubWluLmNzcyIgLz4KICAgICAgICAKICAgICAgICAKICAgICAgICAKICAgICAgICAgICAgCiAgICAgICAgCiAgICAgICAgICAgIDxsaW5rIHJlbD0ic3R5bGVzaGVldCIgaHJlZj0iaHR0cHM6Ly9jZG5qcy5jbG91ZGZsYXJlLmNvbS9hamF4L2xpYnMvTGVhZmxldC5hd2Vzb21lLW1hcmtlcnMvMi4wLjIvbGVhZmxldC5hd2Vzb21lLW1hcmtlcnMuY3NzIiAvPgogICAgICAgIAogICAgICAgIAogICAgICAgIAogICAgICAgICAgICAKICAgICAgICAKICAgICAgICAgICAgPGxpbmsgcmVsPSJzdHlsZXNoZWV0IiBocmVmPSJodHRwczovL2NkbmpzLmNsb3VkZmxhcmUuY29tL2FqYXgvbGlicy9sZWFmbGV0Lm1hcmtlcmNsdXN0ZXIvMC40LjAvTWFya2VyQ2x1c3Rlci5EZWZhdWx0LmNzcyIgLz4KICAgICAgICAKICAgICAgICAKICAgICAgICAKICAgICAgICAgICAgCiAgICAgICAgCiAgICAgICAgICAgIDxsaW5rIHJlbD0ic3R5bGVzaGVldCIgaHJlZj0iaHR0cHM6Ly9jZG5qcy5jbG91ZGZsYXJlLmNvbS9hamF4L2xpYnMvbGVhZmxldC5tYXJrZXJjbHVzdGVyLzAuNC4wL01hcmtlckNsdXN0ZXIuY3NzIiAvPgogICAgICAgIAogICAgICAgIAogICAgICAgIAogICAgICAgICAgICAKICAgICAgICAKICAgICAgICAgICAgPGxpbmsgcmVsPSJzdHlsZXNoZWV0IiBocmVmPSJodHRwczovL3Jhdy5naXRodWJ1c2VyY29udGVudC5jb20vcHl0aG9uLXZpc3VhbGl6YXRpb24vZm9saXVtL21hc3Rlci9mb2xpdW0vdGVtcGxhdGVzL2xlYWZsZXQuYXdlc29tZS5yb3RhdGUuY3NzIiAvPgogICAgICAgIAogICAgICAgIAogICAgICAgIAogICAgICAgICAgICAKICAgICAgICAgICAgPHN0eWxlPgoKICAgICAgICAgICAgaHRtbCwgYm9keSB7CiAgICAgICAgICAgICAgICB3aWR0aDogMTAwJTsKICAgICAgICAgICAgICAgIGhlaWdodDogMTAwJTsKICAgICAgICAgICAgICAgIG1hcmdpbjogMDsKICAgICAgICAgICAgICAgIHBhZGRpbmc6IDA7CiAgICAgICAgICAgICAgICB9CgogICAgICAgICAgICAjbWFwIHsKICAgICAgICAgICAgICAgIHBvc2l0aW9uOmFic29sdXRlOwogICAgICAgICAgICAgICAgdG9wOjA7CiAgICAgICAgICAgICAgICBib3R0b206MDsKICAgICAgICAgICAgICAgIHJpZ2h0OjA7CiAgICAgICAgICAgICAgICBsZWZ0OjA7CiAgICAgICAgICAgICAgICB9CiAgICAgICAgICAgIDwvc3R5bGU+CiAgICAgICAgICAgIAogICAgICAgIAogICAgICAgICAgICAKICAgICAgICAgICAgPHN0eWxlPiAjbWFwX2JiOTc5MTA0Mzk4MjRhY2E5ZWJlMzQwMjJhMTJkODJhIHsKICAgICAgICAgICAgICAgIHBvc2l0aW9uIDogcmVsYXRpdmU7CiAgICAgICAgICAgICAgICB3aWR0aCA6IDEwMC4wJTsKICAgICAgICAgICAgICAgIGhlaWdodDogMTAwLjAlOwogICAgICAgICAgICAgICAgbGVmdDogMC4wJTsKICAgICAgICAgICAgICAgIHRvcDogMC4wJTsKICAgICAgICAgICAgICAgIH0KICAgICAgICAgICAgPC9zdHlsZT4KICAgICAgICAKICAgICAgICAKICAgICAgICAKICAgICAgICA8L2hlYWQ+CiAgICAgICAgPGJvZHk+CiAgICAgICAgICAgIAogICAgICAgIAogICAgICAgICAgICAKICAgICAgICAgICAgPGRpdiBjbGFzcz0iZm9saXVtLW1hcCIgaWQ9Im1hcF9iYjk3OTEwNDM5ODI0YWNhOWViZTM0MDIyYTEyZDgyYSIgPjwvZGl2PgogICAgICAgIAogICAgICAgIAogICAgICAgIAogICAgICAgIDwvYm9keT4KICAgICAgICA8c2NyaXB0PgogICAgICAgICAgICAKICAgICAgICAKICAgICAgICAgICAgCgogICAgICAgICAgICB2YXIgc291dGhXZXN0ID0gTC5sYXRMbmcoLTkwLCAtMTgwKTsKICAgICAgICAgICAgdmFyIG5vcnRoRWFzdCA9IEwubGF0TG5nKDkwLCAxODApOwogICAgICAgICAgICB2YXIgYm91bmRzID0gTC5sYXRMbmdCb3VuZHMoc291dGhXZXN0LCBub3J0aEVhc3QpOwoKICAgICAgICAgICAgdmFyIG1hcF9iYjk3OTEwNDM5ODI0YWNhOWViZTM0MDIyYTEyZDgyYSA9IEwubWFwKCdtYXBfYmI5NzkxMDQzOTgyNGFjYTllYmUzNDAyMmExMmQ4MmEnLCB7CiAgICAgICAgICAgICAgICAgICAgICAgICAgICAgICAgICAgICAgICAgICBjZW50ZXI6WzM4Ljg5Mzk5LC03Ny4wMzY1OV0sCiAgICAgICAgICAgICAgICAgICAgICAgICAgICAgICAgICAgICAgICAgICB6b29tOiAxNywKICAgICAgICAgICAgICAgICAgICAgICAgICAgICAgICAgICAgICAgICAgIG1heEJvdW5kczogYm91bmRzLAogICAgICAgICAgICAgICAgICAgICAgICAgICAgICAgICAgICAgICAgICAgbGF5ZXJzOiBbXSwKICAgICAgICAgICAgICAgICAgICAgICAgICAgICAgICAgICAgICAgICAgIGNyczogTC5DUlMuRVBTRzM4NTcKICAgICAgICAgICAgICAgICAgICAgICAgICAgICAgICAgICAgICAgICB9KTsKICAgICAgICAgICAgCiAgICAgICAgCiAgICAgICAgCiAgICAgICAgICAgIAogICAgICAgICAgICB2YXIgdGlsZV9sYXllcl8zMTk0MjNkNDZiOTE0OTAwOGZjYmJiMWUzNjljZDUwMyA9IEwudGlsZUxheWVyKAogICAgICAgICAgICAgICAgJ2h0dHBzOi8ve3N9LnRpbGUub3BlbnN0cmVldG1hcC5vcmcve3p9L3t4fS97eX0ucG5nJywKICAgICAgICAgICAgICAgIHsKICAgICAgICAgICAgICAgICAgICBtYXhab29tOiAxOCwKICAgICAgICAgICAgICAgICAgICBtaW5ab29tOiAxLAogICAgICAgICAgICAgICAgICAgIGF0dHJpYnV0aW9uOiAnRGF0YSBieSA8YSBocmVmPSJodHRwOi8vb3BlbnN0cmVldG1hcC5vcmciPk9wZW5TdHJlZXRNYXA8L2E+LCB1bmRlciA8YSBocmVmPSJodHRwOi8vd3d3Lm9wZW5zdHJlZXRtYXAub3JnL2NvcHlyaWdodCI+T0RiTDwvYT4uJywKICAgICAgICAgICAgICAgICAgICBkZXRlY3RSZXRpbmE6IGZhbHNlCiAgICAgICAgICAgICAgICAgICAgfQogICAgICAgICAgICAgICAgKS5hZGRUbyhtYXBfYmI5NzkxMDQzOTgyNGFjYTllYmUzNDAyMmExMmQ4MmEpOwoKICAgICAgICAKICAgICAgICAKICAgICAgICAgICAgCgogICAgICAgICAgICB2YXIgY2lyY2xlX21hcmtlcl84YmYzYzc2NmI2NzY0YzgxOTU2N2ZlNzdlOTdhZmM0MSA9IEwuY2lyY2xlKAogICAgICAgICAgICAgICAgWzM4Ljg5NDE1LC03Ny4wMzczOF0sCiAgICAgICAgICAgICAgICAyMCwKICAgICAgICAgICAgICAgIHsKICAgICAgICAgICAgICAgICAgICBjb2xvcjogJ2JsYWNrJywKICAgICAgICAgICAgICAgICAgICBmaWxsQ29sb3I6ICdyZWQnLAogICAgICAgICAgICAgICAgICAgIGZpbGxPcGFjaXR5OiAwLjYKICAgICAgICAgICAgICAgICAgICB9CiAgICAgICAgICAgICAgICApCiAgICAgICAgICAgICAgICAuYWRkVG8obWFwX2JiOTc5MTA0Mzk4MjRhY2E5ZWJlMzQwMjJhMTJkODJhKTsKICAgICAgICAgICAgCiAgICAgICAgCiAgICAgICAgICAgIAoKICAgICAgICAgICAgdmFyIGNpcmNsZV9tYXJrZXJfNjM2NGQ1N2MyNjUyNDBkZWI0M2UyYmMxYjE0OWM4ZjMgPSBMLmNpcmNsZSgKICAgICAgICAgICAgICAgIFszOC44OTQxNSwtNzcuMDM1NzhdLAogICAgICAgICAgICAgICAgMjAsCiAgICAgICAgICAgICAgICB7CiAgICAgICAgICAgICAgICAgICAgY29sb3I6ICdibGFjaycsCiAgICAgICAgICAgICAgICAgICAgZmlsbENvbG9yOiAncmVkJywKICAgICAgICAgICAgICAgICAgICBmaWxsT3BhY2l0eTogMC42CiAgICAgICAgICAgICAgICAgICAgfQogICAgICAgICAgICAgICAgKQogICAgICAgICAgICAgICAgLmFkZFRvKG1hcF9iYjk3OTEwNDM5ODI0YWNhOWViZTM0MDIyYTEyZDgyYSk7CiAgICAgICAgICAgIAogICAgICAgIAogICAgICAgICAgICAKICAgICAgICAgICAgICAgIHZhciBwb2x5X2xpbmVfYzJmZmE2MDhkYjAxNDIzZDlhOTE1ZGUyOTM2MDhlYWMgPSBMLnBvbHlsaW5lKAogICAgICAgICAgICAgICAgICAgIFtbWzM4Ljg0MzU5NjQ0NDM1MjE0LCAtNzcuMDM4MTQ5ODMzNjc5Ml0sIFszOC44OTMzNzkzMzM3MjIwNCwgLTc3LjAzNzkyNDUyODEyMTk1XV0sIFtbMzguODkzMzc5MzMzNzIyMDQsIC03Ny4wMzc5MjQ1MjgxMjE5NV0sIFszOC44OTMxNjIyMjI0MjgzMSwgLTc3LjAzNzYxMzM5MTg3NjIyXV0sIFtbMzguODkzMTYyMjIyNDI4MzEsIC03Ny4wMzc2MTMzOTE4NzYyMl0sIFszOC44OTMwMjg2MTUxNDg0MjQsIC03Ny4wMzczMTI5ODQ0NjY1NV1dLCBbWzM4Ljg5MzAyODYxNTE0ODQyNCwgLTc3LjAzNzMxMjk4NDQ2NjU1XSwgWzM4Ljg5MjkyMDA1OTA0ODQ2NCwgLTc3LjAzNjkxNjAxNzUzMjM1XV0sIFtbMzguODkyOTIwMDU5MDQ4NDY0LCAtNzcuMDM2OTE2MDE3NTMyMzVdLCBbMzguODkyOTAzMzU4MDk1Mjk2LCAtNzcuMDM2Mzc5NTc1NzI5MzddXSwgW1szOC44OTI5MDMzNTgwOTUyOTYsIC03Ny4wMzYzNzk1NzU3MjkzN10sIFszOC44OTMwMTE5MTQyMjA3NywgLTc3LjAzNTkyODk2NDYxNDg3XV0sIFtbMzguODkzMDExOTE0MjIwNzcsIC03Ny4wMzU5Mjg5NjQ2MTQ4N10sIFszOC44OTMxNjIyMjI0MjgzMSwgLTc3LjAzNTQ5OTgxMTE3MjQ5XV0sIFtbMzguODkzMTYyMjIyNDI4MzEsIC03Ny4wMzU0OTk4MTExNzI0OV0sIFszOC44OTM0MDQzODQ5ODI0OCwgLTc3LjAzNTE0NTc1OTU4MjUyXV0sIFtbMzguODkzNDA0Mzg0OTgyNDgsIC03Ny4wMzUxNDU3NTk1ODI1Ml0sIFszOC44OTM1OTY0NDQzNTIxMzQsIC03Ny4wMzQ5NjMzNjkzNjk1XV1dLAogICAgICAgICAgICAgICAgICAgIHsKICAgICAgICAgICAgICAgICAgICAgICAgY29sb3I6ICdvcmFuZ2UnLAogICAgICAgICAgICAgICAgICAgICAgICB3ZWlnaHQ6IDIwLAogICAgICAgICAgICAgICAgICAgICAgICBvcGFjaXR5OiAxLAogICAgICAgICAgICAgICAgICAgICAgICB9KTsKICAgICAgICAgICAgICAgIG1hcF9iYjk3OTEwNDM5ODI0YWNhOWViZTM0MDIyYTEyZDgyYS5hZGRMYXllcihwb2x5X2xpbmVfYzJmZmE2MDhkYjAxNDIzZDlhOTE1ZGUyOTM2MDhlYWMpOwogICAgICAgICAgICAKICAgICAgICAKICAgICAgICAKICAgICAgICA8L3NjcmlwdD4KICAgICAgICA=\" style=\"position:absolute;width:100%;height:100%;left:0;top:0;\"></iframe></div></div>"
      ],
      "text/plain": [
       "<folium.folium.Map at 0x7f1018d5ccf8>"
      ]
     },
     "execution_count": 47,
     "metadata": {},
     "output_type": "execute_result"
    }
   ],
   "source": [
    "lat = +38.89399\n",
    "lon = -77.03659\n",
    "zoom_start = 17\n",
    "\n",
    "m = folium.Map(location=[lat, lon], zoom_start=zoom_start)\n",
    "\n",
    "kw = dict(fill_color='red', radius=20)\n",
    "c0 = folium.CircleMarker([38.89415, -77.03738], **kw)\n",
    "c1 = folium.CircleMarker([38.89415, -77.03578], **kw)\n",
    "\n",
    "\n",
    "locations = [[(38.843596444352134, -77.03814983367920), (38.893379333722040, -77.03792452812195)],\n",
    "             [(38.893379333722040, -77.03792452812195), (38.893162222428310, -77.03761339187622)],\n",
    "             [(38.893162222428310, -77.03761339187622), (38.893028615148424, -77.03731298446655)],\n",
    "             [(38.893028615148424, -77.03731298446655), (38.892920059048464, -77.03691601753235)],\n",
    "             [(38.892920059048464, -77.03691601753235), (38.892903358095296, -77.03637957572937)],\n",
    "             [(38.892903358095296, -77.03637957572937), (38.893011914220770, -77.03592896461487)],\n",
    "             [(38.893011914220770, -77.03592896461487), (38.893162222428310, -77.03549981117249)],\n",
    "             [(38.893162222428310, -77.03549981117249), (38.893404384982480, -77.03514575958252)],\n",
    "             [(38.893404384982480, -77.03514575958252), (38.893596444352134, -77.03496336936950)]]\n",
    "\n",
    "c3 = folium.PolyLine(locations=locations, color='orange', weight=20, opacity=1)\n",
    "\n",
    "for c in [c0, c1, c3]:\n",
    "    m.add_child(c)\n",
    "\n",
    "m.save(os.path.join('results', 'MultiPolyline.html'))\n",
    "\n",
    "m"
   ]
  },
  {
   "cell_type": "markdown",
   "metadata": {},
   "source": [
    "## Linien ziehen mit Folium\n",
    "\n",
    "Diese Funktion ist in Folium nicht gut dokumentiert und ich habe sie von Stack Overflow: [https://stackoverflow.com/questions/23905822/print-a-line-multiline-in-a-new-layer-over-a-map-using-folium]. Beachte dass das 2d Array, welches die Koordinaten hällt, nach [N, E] - Koordinaten sortiert ist, aber der von SPARQL übergebene WKT ist nach (E, N) sortiert. Das heißt, wir müssen das SPARQL Ergebnis erst umwandeln bevor wir es weiter nutzen können."
   ]
  },
  {
   "cell_type": "code",
   "execution_count": 9,
   "metadata": {
    "collapsed": true
   },
   "outputs": [],
   "source": [
    "import folium\n",
    "\n",
    "# Coordinates are 10 points on the great circle from Boston to\n",
    "# San Francisco.\n",
    "# Reference: http://williams.best.vwh.net/avform.htm#Intermediate\n",
    "coordinates = [\n",
    "    [42.3581, -71.0636],\n",
    "    [42.82995815, -74.78991444],\n",
    "    [43.17929819, -78.56603306],\n",
    "    [43.40320216, -82.37774519],\n",
    "    [43.49975489, -86.20965845],\n",
    "    [41.4338549, -108.74485069],\n",
    "    [40.67471747, -112.29609954],\n",
    "    [39.8093434, -115.76190821],\n",
    "    [38.84352776, -119.13665678],\n",
    "    [37.7833, -122.4167]]\n",
    "\n",
    "# Create the map and add the line\n",
    "mappy = folium.Map(location=[41.9, -97.3], zoom_start=4)\n",
    "my_PolyLine=folium.PolyLine(locations=coordinates,weight=1)\n",
    "mappy.add_child(my_PolyLine)\n",
    "mappy.save(outfile='einekartemitlinie.html')\n",
    "\n",
    "\n"
   ]
  },
  {
   "cell_type": "code",
   "execution_count": 10,
   "metadata": {},
   "outputs": [
    {
     "data": {
      "text/html": [
       "<iframe width=\"100%\" height =\"350\" src=\"einekartemitlinie.html\"></iframe>"
      ],
      "text/plain": [
       "<IPython.core.display.HTML object>"
      ]
     },
     "metadata": {},
     "output_type": "display_data"
    }
   ],
   "source": [
    "%%HTML\n",
    "<iframe width=\"100%\" height =\"350\" src=\"einekartemitlinie.html\"></iframe>"
   ]
  },
  {
   "cell_type": "code",
   "execution_count": 27,
   "metadata": {},
   "outputs": [
    {
     "data": {
      "text/plain": [
       "'POINT (116.4000 45.2000 11.1000)'"
      ]
     },
     "execution_count": 27,
     "metadata": {},
     "output_type": "execute_result"
    }
   ],
   "source": [
    "\n",
    "from geomet import wkt\n",
    "point = {'type': 'Point', 'coordinates': [116.4, 45.2, 11.1]}\n",
    "wkt.dumps(point, decimals=4)\n",
    "\n",
    "\n",
    "\n"
   ]
  },
  {
   "cell_type": "code",
   "execution_count": 32,
   "metadata": {
    "collapsed": true
   },
   "outputs": [],
   "source": [
    "import json\n",
    "\n",
    "linestring = 'LINESTRING(2.379444 48.723333, 2.365278 48.720278, 2.2525 48.696111, 2.224167 48.69, 2.129167 48.652222, 2.093611 48.638056, 1.923056 48.669444, 1.805278 48.691111, 1.674167 48.715278, 1.516667 48.744167, 1.503611 48.746667, 1.341389 48.753889, 1.138611 48.763056, 0.895278 48.774167, 0.611389 48.786944, 0.530278 48.790556, 0.447222 48.743889, 0.291667 48.656111, 0.156667 48.58, -0.135278 48.415, -0.25 48.35, -0.380833 48.2725, -0.521667 48.189167, -1.5175 47.599722, -1.928889 47.348889, -2.363056 46.86, -3.867222 45.084167, -4.436111 44.4125, -6.521944 41.824444, -6.621944 41.700556, -8.123333 40.182778, -8.158889 40.146389, -8.287778 40.016389, -8.301944 40.001944, -8.311389 39.985556, -8.492778 39.665833, -8.679444 39.472778, -8.707222 39.444167, -8.817778 39.329722, -9.06 39.079444, -9.086111 39.038611, -9.133611 38.965, -9.186111 38.883333, -9.233333 38.809722, -9.285833 38.728056, -9.317222 38.678889, -9.331111 38.656389, -9.354444 38.619167, -9.391667 38.559167, -9.286111 38.520556, -9.248889 38.580278, -9.196389 38.669167, -9.1675 38.7175, -9.138889 38.766111, -9.134167 38.774167)'\n",
    "# we will try to convert the wkt linestring into a latlon 2d array. Or GeoJSON.\n",
    "\n",
    "somegeojson = wkt.loads(linestring)\n",
    "with open('somegeo.json', 'w') as outfile:\n",
    "    json.dump(somegeojson, outfile)\n",
    "#somejsonstring = json.dumps(somegeojson)\n",
    "#somejsonstring"
   ]
  },
  {
   "cell_type": "code",
   "execution_count": 31,
   "metadata": {},
   "outputs": [
    {
     "data": {
      "text/html": [
       "<div style=\"width:100%;\"><div style=\"position:relative;width:100%;height:0;padding-bottom:60%;\"><iframe src=\"data:text/html;charset=utf-8;base64,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\" style=\"position:absolute;width:100%;height:100%;left:0;top:0;border:none !important;\" allowfullscreen webkitallowfullscreen mozallowfullscreen></iframe></div></div>"
      ],
      "text/plain": [
       "<folium.folium.Map at 0x7fc217cb8cc0>"
      ]
     },
     "execution_count": 31,
     "metadata": {},
     "output_type": "execute_result"
    }
   ],
   "source": [
    "map_3 = folium.Map(location=[40, 40], zoom_start=4)\n",
    "folium.GeoJson(open('somegeo.json'), name='joergsgeojson').add_to(map_3)\n",
    "\n",
    "#map_3.create_map(path='map_3.html')\n",
    "folium.LayerControl().add_to(map_3)\n",
    "map_3.save(outfile='einekartemitjson.html')\n",
    "\n",
    "map_3"
   ]
  },
  {
   "cell_type": "code",
   "execution_count": 30,
   "metadata": {},
   "outputs": [
    {
     "data": {
      "text/html": [
       "<iframe width=\"100%\" height =\"350\" src=\"einekartemitjson.html\"></iframe>"
      ],
      "text/plain": [
       "<IPython.core.display.HTML object>"
      ]
     },
     "metadata": {},
     "output_type": "display_data"
    }
   ],
   "source": [
    "%%HTML\n",
    "<iframe width=\"100%\" height =\"350\" src=\"einekartemitjson.html\"></iframe>"
   ]
  },
  {
   "cell_type": "code",
   "execution_count": 55,
   "metadata": {},
   "outputs": [
    {
     "data": {
      "text/plain": [
       "'{\"type\": \"LineString\", \"coordinates\": [[2.379444, 48.723333], [2.365278, 48.720278], [2.2525, 48.696111], [2.224167, 48.69], [2.129167, 48.652222], [2.093611, 48.638056], [1.923056, 48.669444], [1.805278, 48.691111], [1.674167, 48.715278], [1.516667, 48.744167], [1.503611, 48.746667], [1.341389, 48.753889], [1.138611, 48.763056], [0.895278, 48.774167], [0.611389, 48.786944], [0.530278, 48.790556], [0.447222, 48.743889], [0.291667, 48.656111], [0.156667, 48.58], [-0.135278, 48.415], [-0.25, 48.35], [-0.380833, 48.2725], [-0.521667, 48.189167], [-1.5175, 47.599722], [-1.928889, 47.348889], [-2.363056, 46.86], [-3.867222, 45.084167], [-4.436111, 44.4125], [-6.521944, 41.824444], [-6.621944, 41.700556], [-8.123333, 40.182778], [-8.158889, 40.146389], [-8.287778, 40.016389], [-8.301944, 40.001944], [-8.311389, 39.985556], [-8.492778, 39.665833], [-8.679444, 39.472778], [-8.707222, 39.444167], [-8.817778, 39.329722], [-9.06, 39.079444], [-9.086111, 39.038611], [-9.133611, 38.965], [-9.186111, 38.883333], [-9.233333, 38.809722], [-9.285833, 38.728056], [-9.317222, 38.678889], [-9.331111, 38.656389], [-9.354444, 38.619167], [-9.391667, 38.559167], [-9.286111, 38.520556], [-9.248889, 38.580278], [-9.196389, 38.669167], [-9.1675, 38.7175], [-9.138889, 38.766111], [-9.134167, 38.774167]]}'"
      ]
     },
     "execution_count": 55,
     "metadata": {},
     "output_type": "execute_result"
    }
   ],
   "source": [
    "from geomet import wkt\n",
    "import json\n",
    "\n",
    "linestring = 'LINESTRING(2.379444 48.723333, 2.365278 48.720278, 2.2525 48.696111, 2.224167 48.69, 2.129167 48.652222, 2.093611 48.638056, 1.923056 48.669444, 1.805278 48.691111, 1.674167 48.715278, 1.516667 48.744167, 1.503611 48.746667, 1.341389 48.753889, 1.138611 48.763056, 0.895278 48.774167, 0.611389 48.786944, 0.530278 48.790556, 0.447222 48.743889, 0.291667 48.656111, 0.156667 48.58, -0.135278 48.415, -0.25 48.35, -0.380833 48.2725, -0.521667 48.189167, -1.5175 47.599722, -1.928889 47.348889, -2.363056 46.86, -3.867222 45.084167, -4.436111 44.4125, -6.521944 41.824444, -6.621944 41.700556, -8.123333 40.182778, -8.158889 40.146389, -8.287778 40.016389, -8.301944 40.001944, -8.311389 39.985556, -8.492778 39.665833, -8.679444 39.472778, -8.707222 39.444167, -8.817778 39.329722, -9.06 39.079444, -9.086111 39.038611, -9.133611 38.965, -9.186111 38.883333, -9.233333 38.809722, -9.285833 38.728056, -9.317222 38.678889, -9.331111 38.656389, -9.354444 38.619167, -9.391667 38.559167, -9.286111 38.520556, -9.248889 38.580278, -9.196389 38.669167, -9.1675 38.7175, -9.138889 38.766111, -9.134167 38.774167)'\n",
    "linestring2 = 'LINESTRING(6.757222 51.280833, 6.768889 51.286389, 6.815278 51.309167, 6.850278 51.326111, 6.861944 51.331667, 6.883333 51.341111, 6.904444 51.350556, 6.928889 51.441944, 6.943611 51.496944, 6.813611 51.528056, 6.683889 51.559167, 6.670833 51.562222, 6.373889 51.466389, 6.348056 51.458056, 6.281667 51.345278, 6.271389 51.328056, 6.193056 51.193889, 6.143889 51.109722, 6.09 51.0175, 6.027222 50.995556, 5.989722 50.982222, 5.960556 50.971944, 5.894444 50.960278, 5.735833 50.932222, 5.5425 50.896944, 5.307778 50.854167, 5.045278 50.806389, 4.722222 50.745833, 4.601111 50.723056, 4.056667 50.618056, 3.832778 50.573889, 3.748333 50.449722, 3.675 50.342222, 3.318056 49.808333, 3.106389 49.485833, 2.191944 48.568611, 2.1 48.283333, 2.131667 48.133333, 2.179167 47.317778, 2.192222 47.089167, 2.265 46.964722, 2.3375 46.840278, 2.351944 46.815, 2.818056 45.998056, 2.837222 44.784444, 2.842222 44.454444, 2.852222 43.780556, 2.867222 42.750556, 2.832222 42.451389, 2.778056 41.985278, 2.771667 41.931389, 2.770278 41.913611, 2.751389 41.684444, 2.718889 40.899444, 2.714444 40.790556, 2.704444 40.545278, 2.7025 40.5, 2.7925 40.375556, 2.905278 40.219722, 2.78 40.055833, 2.630833 39.860556, 2.618889 39.845, 2.577778 39.790556, 2.460278 39.635, 2.395833 39.549444, 2.461389 39.513611, 2.508333 39.487778, 2.545833 39.467222, 2.576389 39.480556, 2.616944 39.498333, 2.738889 39.551667)'\n",
    "# we will try to convert the wkt linestring into a latlon 2d array. Or GeoJSON.\n",
    "\n",
    "somegeojson = wkt.loads(linestring)\n",
    "somegeojson2 = wkt.loads(linestring2)\n",
    "#with open('somegeo.json', 'w') as outfile:\n",
    "#    json.dump(somegeojson, outfile)\n",
    "#somejsonstring = json.dumps(somegeojson)\n",
    "#somejsonstring\n",
    "somegeojsonstring = json.dumps(somegeojson)\n",
    "somegeojsonstring2 = json.dumps(somegeojson2)\n",
    "\n",
    "somegeojsonstring"
   ]
  },
  {
   "cell_type": "code",
   "execution_count": 82,
   "metadata": {},
   "outputs": [
    {
     "data": {
      "text/html": [
       "<div style=\"width:100%;\"><div style=\"position:relative;width:100%;height:0;padding-bottom:60%;\"><iframe src=\"data:text/html;charset=utf-8;base64,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\" style=\"position:absolute;width:100%;height:100%;left:0;top:0;border:none !important;\" allowfullscreen webkitallowfullscreen mozallowfullscreen></iframe></div></div>"
      ],
      "text/plain": [
       "<folium.folium.Map at 0x7fc217b856d8>"
      ]
     },
     "execution_count": 82,
     "metadata": {},
     "output_type": "execute_result"
    }
   ],
   "source": [
    "map_4 = folium.Map(location=[40, 40], zoom_start=4, control_scale=True, prefer_canvas=True)\n",
    "\n",
    "folium.GeoJson(somegeojsonstring, name='joergsgeojson', overlay=False,\n",
    "              style_function=lambda feature: {'fillColor': '#ffaf00','color': 'black',\n",
    "                                              'weight': 1.0,'dashArray': '1, 5'}\n",
    "              ).add_to(map_4)\n",
    "\n",
    "ab = folium.GeoJson(somegeojsonstring2, name='joergsgeojson', overlay=True).add_to(map_4)\n",
    "ab.add_child(folium.Popup(\"some interesting Info about this trajectory\"))\n",
    "ab.add_to(map_4)\n",
    "\n",
    "#map_3.create_map(path='map_3.html')\n",
    "folium.LayerControl().add_to(map_4)\n",
    "map_4.save(outfile='nochnekartemitjson.html')\n",
    "\n",
    "map_4"
   ]
  },
  {
   "cell_type": "code",
   "execution_count": 58,
   "metadata": {},
   "outputs": [
    {
     "data": {
      "text/plain": [
       "'LINESTRING(2.379444 48.723333, 2.365278 48.720278, 2.2525 48.696111, 2.224167 48.69, 2.129167 48.652222, 2.093611 48.638056, 1.923056 48.669444, 1.805278 48.691111, 1.674167 48.715278, 1.516667 48.744167, 1.503611 48.746667, 1.341389 48.753889, 1.138611 48.763056, 0.895278 48.774167, 0.611389 48.786944, 0.530278 48.790556, 0.447222 48.743889, 0.291667 48.656111, 0.156667 48.58, -0.135278 48.415, -0.25 48.35, -0.380833 48.2725, -0.521667 48.189167, -1.5175 47.599722, -1.928889 47.348889, -2.363056 46.86, -3.867222 45.084167, -4.436111 44.4125, -6.521944 41.824444, -6.621944 41.700556, -8.123333 40.182778, -8.158889 40.146389, -8.287778 40.016389, -8.301944 40.001944, -8.311389 39.985556, -8.492778 39.665833, -8.679444 39.472778, -8.707222 39.444167, -8.817778 39.329722, -9.06 39.079444, -9.086111 39.038611, -9.133611 38.965, -9.186111 38.883333, -9.233333 38.809722, -9.285833 38.728056, -9.317222 38.678889, -9.331111 38.656389, -9.354444 38.619167, -9.391667 38.559167, -9.286111 38.520556, -9.248889 38.580278, -9.196389 38.669167, -9.1675 38.7175, -9.138889 38.766111, -9.134167 38.774167)'"
      ]
     },
     "execution_count": 58,
     "metadata": {},
     "output_type": "execute_result"
    }
   ],
   "source": [
    "linestring"
   ]
  },
  {
   "cell_type": "code",
   "execution_count": 75,
   "metadata": {},
   "outputs": [
    {
     "data": {
      "text/plain": [
       "{'coordinates': [[2.379444, 48.723333],\n",
       "  [2.365278, 48.720278],\n",
       "  [2.2525, 48.696111],\n",
       "  [2.224167, 48.69],\n",
       "  [2.129167, 48.652222],\n",
       "  [2.093611, 48.638056]],\n",
       " 'type': 'LineString'}"
      ]
     },
     "execution_count": 75,
     "metadata": {},
     "output_type": "execute_result"
    }
   ],
   "source": [
    "l2 = 'LINESTRING(2.379444 48.723333, 2.365278 48.720278, 2.2525 48.696111, 2.224167 48.69, 2.129167 48.652222, 2.093611 48.638056)'\n",
    "a = wkt.loads(l2)\n",
    "a"
   ]
  },
  {
   "cell_type": "code",
   "execution_count": 68,
   "metadata": {},
   "outputs": [
    {
     "data": {
      "text/plain": [
       "48.723333"
      ]
     },
     "execution_count": 68,
     "metadata": {},
     "output_type": "execute_result"
    }
   ],
   "source": [
    "c1 = a['coordinates'][0][1]\n",
    "\n",
    "c1\n",
    "\n",
    "\n"
   ]
  },
  {
   "cell_type": "code",
   "execution_count": 74,
   "metadata": {},
   "outputs": [
    {
     "data": {
      "text/plain": [
       "[[2.379444, 48.723333],\n",
       " [2.365278, 48.720278],\n",
       " [2.2525, 48.696111],\n",
       " [2.224167, 48.69],\n",
       " [2.129167, 48.652222],\n",
       " [2.093611, 48.638056],\n",
       " [1.923056, 48.669444],\n",
       " [1.805278, 48.691111],\n",
       " [1.674167, 48.715278]]"
      ]
     },
     "execution_count": 74,
     "metadata": {},
     "output_type": "execute_result"
    }
   ],
   "source": [
    "arr = []\n",
    "for point in a['coordinates']:\n",
    "    arr.append(point)\n",
    "    \n",
    "arr"
   ]
  },
  {
   "cell_type": "code",
   "execution_count": 78,
   "metadata": {},
   "outputs": [
    {
     "name": "stdout",
     "output_type": "stream",
     "text": [
      "{'type': 'LineString', 'coordinates': [[2.379444, 48.723333], [2.365278, 48.720278], [2.2525, 48.696111], [2.224167, 48.69], [2.129167, 48.652222], [2.093611, 48.638056]]}\n"
     ]
    }
   ],
   "source": [
    "    #your WKT input:\n",
    "    ls = 'LINESTRING(2.379444 48.723333, 2.365278 48.720278, 2.2525 48.696111, 2.224167 48.69, 2.129167 48.652222, 2.093611 48.638056)'\n",
    "\n",
    "    #convert it to GeoJSON:\n",
    "    ls_json = wkt.loads(ls)\n",
    "    \n",
    "    print(ls_json)"
   ]
  },
  {
   "cell_type": "code",
   "execution_count": 80,
   "metadata": {},
   "outputs": [
    {
     "ename": "IndexError",
     "evalue": "list index out of range",
     "output_type": "error",
     "traceback": [
      "\u001b[0;31m---------------------------------------------------------------------------\u001b[0m",
      "\u001b[0;31mIndexError\u001b[0m                                Traceback (most recent call last)",
      "\u001b[0;32m<ipython-input-80-8a752542dfab>\u001b[0m in \u001b[0;36m<module>\u001b[0;34m()\u001b[0m\n\u001b[0;32m----> 1\u001b[0;31m \u001b[0mls_json\u001b[0m\u001b[0;34m[\u001b[0m\u001b[0;34m'coordinates'\u001b[0m\u001b[0;34m]\u001b[0m\u001b[0;34m[\u001b[0m\u001b[0;36m5\u001b[0m\u001b[0;34m]\u001b[0m\u001b[0;34m[\u001b[0m\u001b[0;36m2\u001b[0m\u001b[0;34m]\u001b[0m\u001b[0;34m\u001b[0m\u001b[0m\n\u001b[0m",
      "\u001b[0;31mIndexError\u001b[0m: list index out of range"
     ]
    }
   ],
   "source": [
    "ls_json['coordinates'][5][2]"
   ]
  },
  {
   "cell_type": "code",
   "execution_count": 81,
   "metadata": {},
   "outputs": [
    {
     "data": {
      "text/html": [
       "<div style=\"width:100%;\"><div style=\"position:relative;width:100%;height:0;padding-bottom:60%;\"><iframe src=\"data:text/html;charset=utf-8;base64,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\" style=\"position:absolute;width:100%;height:100%;left:0;top:0;border:none !important;\" allowfullscreen webkitallowfullscreen mozallowfullscreen></iframe></div></div>"
      ],
      "text/plain": [
       "<folium.folium.Map at 0x7fc217a778d0>"
      ]
     },
     "execution_count": 81,
     "metadata": {},
     "output_type": "execute_result"
    }
   ],
   "source": [
    "import folium\n",
    "from folium.plugins import TimestampedGeoJson\n",
    "import numpy as np\n",
    "\n",
    "coordinates = [[[[lon-8*np.sin(theta), -47+6*np.cos(theta)] for\n",
    "                 theta in np.linspace(0, 2*np.pi, 25)],\n",
    "                [[lon-4*np.sin(theta), -47+3*np.cos(theta)] for theta\n",
    "                 in np.linspace(0, 2*np.pi, 25)]] for\n",
    "               lon in np.linspace(-150, 150, 7)]\n",
    "data = {\n",
    "    \"type\": \"FeatureCollection\",\n",
    "    \"features\": [\n",
    "            {\n",
    "                \"type\": \"Feature\",\n",
    "                \"geometry\": {\n",
    "                    \"type\": \"Point\",\n",
    "                    \"coordinates\": [0, 0],\n",
    "                    },\n",
    "                \"properties\": {\n",
    "                    \"times\": [1435708800000+12*86400000]\n",
    "                    }\n",
    "                },\n",
    "            {\n",
    "                \"type\": \"Feature\",\n",
    "                \"geometry\": {\n",
    "                    \"type\": \"MultiPoint\",\n",
    "                    \"coordinates\": [[lon, -25] for\n",
    "                                    lon in np.linspace(-150, 150, 49)],\n",
    "                    },\n",
    "                \"properties\": {\n",
    "                    \"times\": [1435708800000+i*86400000 for\n",
    "                              i in np.linspace(0, 25, 49)]\n",
    "                    }\n",
    "                },\n",
    "            {\n",
    "                \"type\": \"Feature\",\n",
    "                \"geometry\": {\n",
    "                    \"type\": \"LineString\",\n",
    "                    \"coordinates\": [[lon, 25] for\n",
    "                                    lon in np.linspace(-150, 150, 25)],\n",
    "                    },\n",
    "                \"properties\": {\n",
    "                    \"times\": [1435708800000+i*86400000 for\n",
    "                              i in np.linspace(0, 25, 25)]\n",
    "                    }\n",
    "                },\n",
    "            {\n",
    "                \"type\": \"Feature\",\n",
    "                \"geometry\": {\n",
    "                    \"type\": \"MultiLineString\",\n",
    "                    \"coordinates\": [[[lon-4*np.sin(theta),\n",
    "                                      47+3*np.cos(theta)] for theta\n",
    "                                     in np.linspace(0, 2*np.pi, 25)]\n",
    "                                    for lon in\n",
    "                                    np.linspace(-150, 150, 13)],\n",
    "                    },\n",
    "                \"properties\": {\n",
    "                    \"times\": [1435708800000+i*86400000 for\n",
    "                              i in np.linspace(0, 25, 13)]\n",
    "                    }\n",
    "                },\n",
    "            {\n",
    "                \"type\": \"Feature\",\n",
    "                \"geometry\": {\n",
    "                    \"type\": \"MultiPolygon\",\n",
    "                    \"coordinates\": coordinates,\n",
    "                    },\n",
    "                \"properties\": {\n",
    "                    \"times\": [1435708800000+i*86400000 for\n",
    "                              i in np.linspace(0, 25, 7)]\n",
    "                    }\n",
    "                },\n",
    "        ],\n",
    "    }\n",
    "\n",
    "m = folium.Map([47, 3], zoom_start=1)\n",
    "tgj = TimestampedGeoJson(data)\n",
    "m.add_child(tgj)\n",
    "m\n",
    "\n"
   ]
  },
  {
   "cell_type": "code",
   "execution_count": 87,
   "metadata": {},
   "outputs": [
    {
     "data": {
      "text/html": [
       "<script src=\"https://cesiumjs.org/Cesium/Build/Cesium/Cesium.js\"></script>\n",
       "<link rel=\"stylesheet\" href=\"https://cesiumjs.org/Cesium/Build/Cesium/Widgets/widgets.css\" type=\"text/css\">\n",
       "<div id=\"container-140472278292184\" style=\"width:100%; height:100%;\"><div>\n",
       "<script type=\"text/javascript\">\n",
       "  var widget = new Cesium.Viewer(\"container-140472278292184\");\n",
       "  widget.entities.add({position : Cesium.Cartesian3.fromDegrees(-120.0, 40.0, 0.0), box : {dimensions : new Cesium.Cartesian3(400000.0, 300000.0, 500000.0), material : Cesium.Color.RED}});\n",
       "  widget.zoomTo(widget.entities);\n",
       "</script>"
      ],
      "text/plain": [
       "<cesiumpy.viewer.Viewer at 0x7fc2403f9240>"
      ]
     },
     "execution_count": 87,
     "metadata": {},
     "output_type": "execute_result"
    }
   ],
   "source": [
    "import cesiumpy\n",
    "\n",
    "v = cesiumpy.Viewer()\n",
    "b = cesiumpy.Box(dimensions=(40e4, 30e4, 50e4), material=cesiumpy.color.RED, position=[-120, 40, 0])\n",
    "v.entities.add(b)\n",
    "\n",
    "v"
   ]
  },
  {
   "cell_type": "code",
   "execution_count": null,
   "metadata": {
    "collapsed": true
   },
   "outputs": [],
   "source": []
  }
 ],
 "metadata": {
  "kernelspec": {
   "display_name": "datacron1",
   "language": "python",
   "name": "python3"
  },
  "language_info": {
   "codemirror_mode": {
    "name": "ipython",
    "version": 3
   },
   "file_extension": ".py",
   "mimetype": "text/x-python",
   "name": "python",
   "nbconvert_exporter": "python",
   "pygments_lexer": "ipython3",
   "version": "3.6.1"
  }
 },
 "nbformat": 4,
 "nbformat_minor": 2
}
