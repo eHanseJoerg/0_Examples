{
 "cells": [
  {
   "cell_type": "code",
   "execution_count": 2,
   "metadata": {
    "collapsed": true
   },
   "outputs": [],
   "source": [
    "import json\n",
    "import requests\n"
   ]
  },
  {
   "cell_type": "code",
   "execution_count": 24,
   "metadata": {},
   "outputs": [
    {
     "data": {
      "text/plain": [
       "200"
      ]
     },
     "execution_count": 24,
     "metadata": {},
     "output_type": "execute_result"
    }
   ],
   "source": [
    "r = requests.get('https://api.darksky.net/forecast/5456d39a8263a71b4a425f871205fc67/40.5,3.5,2016-04-29T18:00:00Z?&units=si')\n",
    "r.status_code "
   ]
  },
  {
   "cell_type": "code",
   "execution_count": 46,
   "metadata": {},
   "outputs": [
    {
     "data": {
      "text/plain": [
       "200"
      ]
     },
     "execution_count": 46,
     "metadata": {},
     "output_type": "execute_result"
    }
   ],
   "source": [
    "r = requests.get('https://api.darksky.net/forecast/5456d39a8263a71b4a425f871205fc67/38.28,-0.56,2016-04-01T00:00:00?&exclude=hourly,daily,units=si')\n",
    "r.status_code "
   ]
  },
  {
   "cell_type": "code",
   "execution_count": 47,
   "metadata": {},
   "outputs": [
    {
     "data": {
      "text/plain": [
       "'application/json; charset=utf-8'"
      ]
     },
     "execution_count": 47,
     "metadata": {},
     "output_type": "execute_result"
    }
   ],
   "source": [
    "r.headers['content-type']"
   ]
  },
  {
   "cell_type": "code",
   "execution_count": 48,
   "metadata": {
    "scrolled": false
   },
   "outputs": [
    {
     "data": {
      "text/plain": [
       "{'currently': {'apparentTemperature': 62.65,\n",
       "  'cloudCover': 0,\n",
       "  'dewPoint': 28.11,\n",
       "  'humidity': 0.27,\n",
       "  'icon': 'clear-night',\n",
       "  'precipIntensity': 0,\n",
       "  'precipProbability': 0,\n",
       "  'pressure': 1013.53,\n",
       "  'summary': 'Clear',\n",
       "  'temperature': 62.65,\n",
       "  'time': 1459461600,\n",
       "  'uvIndex': 0,\n",
       "  'visibility': 8.61,\n",
       "  'windBearing': 310,\n",
       "  'windSpeed': 10.05},\n",
       " 'flags': {'isd-stations': ['080143-99999',\n",
       "   '082800-99999',\n",
       "   '082840-99999',\n",
       "   '082860-99999',\n",
       "   '083590-99999',\n",
       "   '083600-99999',\n",
       "   '083730-99999',\n",
       "   '084290-99999',\n",
       "   '084300-99999',\n",
       "   '084330-99999'],\n",
       "  'sources': ['isd'],\n",
       "  'units': 'us'},\n",
       " 'latitude': 38.28,\n",
       " 'longitude': -0.56,\n",
       " 'offset': 2,\n",
       " 'timezone': 'Europe/Madrid'}"
      ]
     },
     "execution_count": 48,
     "metadata": {},
     "output_type": "execute_result"
    }
   ],
   "source": [
    "r.json()"
   ]
  },
  {
   "cell_type": "code",
   "execution_count": null,
   "metadata": {
    "collapsed": true
   },
   "outputs": [],
   "source": []
  }
 ],
 "metadata": {
  "kernelspec": {
   "display_name": "datacronKernel1",
   "language": "python",
   "name": "python3"
  },
  "language_info": {
   "codemirror_mode": {
    "name": "ipython",
    "version": 3
   },
   "file_extension": ".py",
   "mimetype": "text/x-python",
   "name": "python",
   "nbconvert_exporter": "python",
   "pygments_lexer": "ipython3",
   "version": "3.6.3"
  }
 },
 "nbformat": 4,
 "nbformat_minor": 2
}
